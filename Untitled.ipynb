{
 "cells": [
  {
   "cell_type": "code",
   "execution_count": 1,
   "id": "589c42be-b183-4e90-ae76-230e4e586e80",
   "metadata": {},
   "outputs": [
    {
     "data": {
      "text/plain": [
       "'\\nClean Notebook for NGC253\\n\\nFeaturing:\\n\\nHCO+ 4-3\\nHCN 4-3\\nH13CN 4-3\\n\\nHCN_J1-0\\nHCO+_J1-0\\nH13CO+_J1-0_and_SiO_J2-1\\nH13CN_J1-0\\n\\nPart 1: Updates\\n\\nPart 2: File Reads, Integrated Maps\\n\\n\\n\\n\\n'"
      ]
     },
     "execution_count": 1,
     "metadata": {},
     "output_type": "execute_result"
    }
   ],
   "source": [
    "'''\n",
    "Clean Notebook for NGC253\n",
    "\n",
    "Featuring:\n",
    "\n",
    "HCO+ 4-3\n",
    "HCN 4-3\n",
    "H13CN 4-3\n",
    "\n",
    "HCN_J1-0\n",
    "HCO+_J1-0\n",
    "H13CO+_J1-0_and_SiO_J2-1\n",
    "H13CN_J1-0\n",
    "\n",
    "Part 1: Updates\n",
    "\n",
    "Part 2: File Reads, Integrated Maps\n",
    "\n",
    "\n",
    "\n",
    "\n",
    "'''"
   ]
  },
  {
   "cell_type": "markdown",
   "id": "d78ca5a3-1d13-4a90-afd9-c707a687b716",
   "metadata": {},
   "source": [
    "# Part 1: Updates"
   ]
  },
  {
   "cell_type": "markdown",
   "id": "a77daba2-9985-48b5-a967-d32b8aace337",
   "metadata": {},
   "source": [
    "# Part 2: File Reads, Integrated Maps"
   ]
  },
  {
   "cell_type": "markdown",
   "id": "5639e816-ae8c-47b7-ae92-7f6442248d49",
   "metadata": {},
   "source": [
    "# Part 3: Moment Maps"
   ]
  },
  {
   "cell_type": "markdown",
   "id": "1e79fa55-252b-4213-893f-3e35d9d0587c",
   "metadata": {},
   "source": [
    "# Part 4: Image Ratios"
   ]
  },
  {
   "cell_type": "markdown",
   "id": "ea7ad2a8-355a-49cf-8f31-e46883e9ad20",
   "metadata": {},
   "source": [
    "# Part 5: Channel Maps"
   ]
  },
  {
   "cell_type": "markdown",
   "id": "e1bc0b51-2b10-4680-9fa3-850f754efec3",
   "metadata": {},
   "source": [
    "# Part 6: PV Plots"
   ]
  },
  {
   "cell_type": "code",
   "execution_count": null,
   "id": "d8ff08cc-705b-4fcf-99f5-fab9c46baf3d",
   "metadata": {},
   "outputs": [],
   "source": [
    "#Part 7: Re"
   ]
  }
 ],
 "metadata": {
  "kernelspec": {
   "display_name": "Python 3",
   "language": "python",
   "name": "python3"
  },
  "language_info": {
   "codemirror_mode": {
    "name": "ipython",
    "version": 3
   },
   "file_extension": ".py",
   "mimetype": "text/x-python",
   "name": "python",
   "nbconvert_exporter": "python",
   "pygments_lexer": "ipython3",
   "version": "3.8.5"
  }
 },
 "nbformat": 4,
 "nbformat_minor": 5
}
