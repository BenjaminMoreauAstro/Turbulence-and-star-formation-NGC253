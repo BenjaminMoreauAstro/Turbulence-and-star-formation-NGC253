{
 "cells": [
  {
   "cell_type": "code",
   "execution_count": 1,
   "id": "376a58d6-77fb-4d10-b02b-15db72d81a11",
   "metadata": {
    "collapsed": true,
    "jupyter": {
     "outputs_hidden": true
    },
    "tags": []
   },
   "outputs": [
    {
     "name": "stdout",
     "output_type": "stream",
     "text": [
      "Step 1/200\n",
      "Step 2/200\n",
      "Step 3/200\n",
      "Step 4/200\n",
      "Step 5/200\n",
      "Step 6/200\n",
      "Step 7/200\n",
      "Step 8/200\n",
      "Step 9/200\n",
      "Step 10/200\n",
      "Step 11/200\n",
      "Step 12/200\n",
      "Step 13/200\n",
      "Step 14/200\n",
      "Step 15/200\n",
      "Step 16/200\n",
      "Step 17/200\n",
      "Step 18/200\n",
      "Step 19/200\n",
      "Step 20/200\n",
      "Step 21/200\n",
      "Step 22/200\n",
      "Step 23/200\n",
      "Step 24/200\n",
      "Step 25/200\n",
      "Step 26/200\n",
      "Step 27/200\n",
      "Step 28/200\n",
      "Step 29/200\n",
      "Step 30/200\n",
      "Step 31/200\n",
      "Step 32/200\n",
      "Step 33/200\n",
      "Step 34/200\n",
      "Step 35/200\n",
      "Step 36/200\n",
      "Step 37/200\n",
      "Step 38/200\n",
      "Step 39/200\n",
      "Step 40/200\n",
      "Step 41/200\n",
      "Step 42/200\n",
      "Step 43/200\n",
      "Step 44/200\n",
      "Step 45/200\n",
      "Step 46/200\n",
      "Step 47/200\n",
      "Step 48/200\n",
      "Step 49/200\n",
      "Step 50/200\n",
      "Step 51/200\n",
      "Step 52/200\n",
      "Step 53/200\n",
      "Step 54/200\n",
      "Step 55/200\n",
      "Step 56/200\n",
      "Step 57/200\n",
      "Step 58/200\n",
      "Step 59/200\n",
      "Step 60/200\n",
      "Step 61/200\n",
      "Step 62/200\n",
      "Step 63/200\n",
      "Step 64/200\n",
      "Step 65/200\n",
      "Step 66/200\n",
      "Step 67/200\n",
      "Step 68/200\n",
      "Step 69/200\n",
      "Step 70/200\n",
      "Step 71/200\n",
      "Step 72/200\n",
      "Step 73/200\n",
      "Step 74/200\n",
      "Step 75/200\n",
      "Step 76/200\n",
      "Step 77/200\n",
      "Step 78/200\n",
      "Step 79/200\n",
      "Step 80/200\n",
      "Step 81/200\n",
      "Step 82/200\n",
      "Step 83/200\n",
      "Step 84/200\n",
      "Step 85/200\n",
      "Step 86/200\n",
      "Step 87/200\n",
      "Step 88/200\n",
      "Step 89/200\n",
      "Step 90/200\n",
      "Step 91/200\n",
      "Step 92/200\n",
      "Step 93/200\n",
      "Step 94/200\n",
      "Step 95/200\n",
      "Step 96/200\n",
      "Step 97/200\n",
      "Step 98/200\n",
      "Step 99/200\n",
      "Step 100/200\n",
      "Step 101/200\n",
      "Step 102/200\n",
      "Step 103/200\n",
      "Step 104/200\n",
      "Step 105/200\n",
      "Step 106/200\n",
      "Step 107/200\n",
      "Step 108/200\n",
      "Step 109/200\n",
      "Step 110/200\n",
      "Step 111/200\n",
      "Step 112/200\n",
      "Step 113/200\n",
      "Step 114/200\n",
      "Step 115/200\n",
      "Step 116/200\n",
      "Step 117/200\n",
      "Step 118/200\n",
      "Step 119/200\n",
      "Step 120/200\n",
      "Step 121/200\n",
      "Step 122/200\n",
      "Step 123/200\n",
      "Step 124/200\n",
      "Step 125/200\n",
      "Step 126/200\n",
      "Step 127/200\n",
      "Step 128/200\n",
      "Step 129/200\n",
      "Step 130/200\n",
      "Step 131/200\n",
      "Step 132/200\n",
      "Step 133/200\n",
      "Step 134/200\n",
      "Step 135/200\n",
      "Step 136/200\n",
      "Step 137/200\n",
      "Step 138/200\n",
      "Step 139/200\n",
      "Step 140/200\n",
      "Step 141/200\n",
      "Step 142/200\n",
      "Step 143/200\n",
      "Step 144/200\n",
      "Step 145/200\n",
      "Step 146/200\n",
      "Step 147/200\n",
      "Step 148/200\n",
      "Step 149/200\n",
      "Step 150/200\n",
      "Step 151/200\n",
      "Step 152/200\n",
      "Step 153/200\n",
      "Step 154/200\n",
      "Step 155/200\n",
      "Step 156/200\n",
      "Step 157/200\n",
      "Step 158/200\n",
      "Step 159/200\n",
      "Step 160/200\n",
      "Step 161/200\n",
      "Step 162/200\n",
      "Step 163/200\n",
      "Step 164/200\n",
      "Step 165/200\n",
      "Step 166/200\n",
      "Step 167/200\n",
      "Step 168/200\n",
      "Step 169/200\n",
      "Step 170/200\n",
      "Step 171/200\n",
      "Step 172/200\n",
      "Step 173/200\n",
      "Step 174/200\n",
      "Step 175/200\n",
      "Step 176/200\n",
      "Step 177/200\n",
      "Step 178/200\n",
      "Step 179/200\n",
      "Step 180/200\n",
      "Step 181/200\n",
      "Step 182/200\n",
      "Step 183/200\n",
      "Step 184/200\n",
      "Step 185/200\n",
      "Step 186/200\n",
      "Step 187/200\n",
      "Step 188/200\n",
      "Step 189/200\n",
      "Step 190/200\n",
      "Step 191/200\n",
      "Step 192/200\n",
      "Step 193/200\n",
      "Step 194/200\n",
      "Step 195/200\n",
      "Step 196/200\n",
      "Step 197/200\n",
      "Step 198/200\n",
      "Step 199/200\n",
      "Step 200/200\n",
      "Done.\n"
     ]
    }
   ],
   "source": [
    "import time\n",
    "\n",
    "# Total duration in seconds\n",
    "total_duration = 200  #\n",
    "# Number of iterations (you can change this)\n",
    "iterations = total_duration\n",
    "# Delay per iteration\n",
    "delay = total_duration / iterations\n",
    "\n",
    "for i in range(iterations):\n",
    "    # Do something here if needed\n",
    "    print(f\"Step {i+1}/{iterations}\")\n",
    "    time.sleep(delay)\n",
    "\n",
    "print(\"Done.\")"
   ]
  },
  {
   "cell_type": "code",
   "execution_count": 34,
   "id": "86cad976-c37e-46fe-9a27-7f79b90e8838",
   "metadata": {},
   "outputs": [
    {
     "name": "stdout",
     "output_type": "stream",
     "text": [
      "/home/ben/miniconda3/bin/python\n",
      "3.8.5 (default, Sep  4 2020, 07:30:14) \n",
      "[GCC 7.3.0]\n",
      "sys.version_info(major=3, minor=8, micro=5, releaselevel='final', serial=0)\n",
      "astropy 5.1.dev153+gb740594dc\n",
      "spectral_cube 0.6.1.dev22+g003ef16\n",
      "spectral_cube file path /home/ben/.local/lib/python3.8/site-packages/spectral_cube/__init__.py\n",
      "reproject 0.8\n",
      "3.3.4 Matplotlib\n",
      "/home/ben/miniconda3/lib/python3.8/site-packages/matplotlib/__init__.py\n",
      "1.23.1 Numpy\n",
      "astrodendro_file: /home/ben/.local/lib/python3.8/site-packages/astrodendro/__init__.py\n",
      "Results will be saved to Directory ./Result Files\n",
      "Cubes will be saved and loaded with Directory ./Spectral Cubes\n",
      "Plots will be saved to Directory ./Plots\n",
      "Dendrograms will be saved to Directory ./Dendrograms\n"
     ]
    }
   ],
   "source": [
    "%run ./\"0 Imports and functions.ipynb\""
   ]
  },
  {
   "cell_type": "code",
   "execution_count": 28,
   "id": "ecc931b2-7035-487a-ba73-c438d6823a8e",
   "metadata": {
    "tags": []
   },
   "outputs": [
    {
     "name": "stdout",
     "output_type": "stream",
     "text": [
      "done\n"
     ]
    },
    {
     "data": {
      "text/plain": [
       "<function gc.collect(generation=2)>"
      ]
     },
     "execution_count": 28,
     "metadata": {},
     "output_type": "execute_result"
    }
   ],
   "source": [
    "# Pointing_Information\n",
    "\n",
    "Pointing_Information = {}\n",
    "\n",
    "#This is the stuff that needs changing between cubes\n",
    "\n",
    "Pointing_Information[\"Original_File_Name\"] = \"NGC253.H13CN_4-3.pbcor.fits\" #the name of the initial SC file.\n",
    "File_Descriptor=\"NGC_253_H13CN_J4-3_\"\n",
    "\n",
    "Pointing_Information[\"File_Descriptor\"] = File_Descriptor\n",
    "Pointing_Information[\"target\"] = \"NGC253\"#or the cmz\n",
    "Pointing_Information[\"center\"] = SkyCoord('00h47m33.14s' ,'-25d17m17.52s',frame='icrs') #the center of NGC253\n",
    "\n",
    "#desired_beam_size = 4.3*u.pc #I add this to the PI later. choose this based on the largest common beam size between the compared observations\n",
    "desired_beam_size = 3*u.pc #I add this to the PI later. choose this based on the largest common beam size between the compared observations\n",
    "distance = 3.5*u.Mpc\n",
    "Pointing_Information[\"distance\"] = distance.to(u.Mpc) #in Mpc\n",
    "Pointing_Information[\"target_image_rotation\"]=33*u.deg #this is the rotation of the specific image, not the target. (use clockwise rotation angle)\n",
    "Pointing_Information[\"target_inclination\"]=78*u.deg\n",
    "Pointing_Information[\"target_velocity\"]=250*u.km/u.s #the speed NGC253 is moving away from us\n",
    "Pointing_Information[\"vaxis\"]=0 #which axis is the velocity\n",
    "#Pointing_Information[\"desired_velocity_resolution\"] = 3.4*u.km/u.s\n",
    "Pointing_Information[\"desired_velocity_resolution\"] = 2.5*u.km/u.s\n",
    "ovs = 5 #how much do you desire to oversample the beam by\n",
    "desired_FOV = [140,700]*u.pc# pc normal to the disk, across the disk\n",
    "#desired_FOV = [70,360]*u.pc# pc normal to the disk, across the disk\n",
    "Pointing_Information[\"Corresponding_Continuum\"] = 'Continuum_Reproject.fits' # this is for the band 7, not for HCN J1-0 \n",
    "#                                                 '4.3pc_beam_CMZ_850um_Cont_140x800pc.fits' # this is the JCMT continuum for 850microns (the CO 3-2 and HCN, HCO 4-3)\n",
    "                                                # I also have gc_850micron_dust.fits, which has a larger fov\n",
    "\n",
    "\n",
    "print(\"done\")\n",
    "\n",
    "gc.collect"
   ]
  },
  {
   "cell_type": "code",
   "execution_count": 30,
   "id": "d084ce66-6ff3-4419-bd87-d6d914f39a3b",
   "metadata": {
    "tags": []
   },
   "outputs": [
    {
     "name": "stdout",
     "output_type": "stream",
     "text": [
      "\n"
     ]
    }
   ],
   "source": [
    "\n",
    "#This stuff will input automagically if the rest is correct\n",
    "\n",
    "sc = SpectralCube.read(\"Spectral Cubes/\"+Pointing_Information[\"Original_File_Name\"])\n",
    "header = sc.header\n",
    "print()\n",
    "try:\n",
    "    freq = header[\"RESTFREQ\"]*u.Hz# assuming the header is in Hz\n",
    "    Pointing_Information['wavelength']=299792458*u.m/header[\"RESTFREQ\"]#\n",
    "    Pointing_Information['restfreq']=freq         \n",
    "except:\n",
    "    freq = header[\"RESTFRQ\"]*u.Hz#\n",
    "    Pointing_Information['wavelength']=299792458*u.m/header[\"RESTFRQ\"]#            \n",
    "    Pointing_Information['restfreq']=freq \n",
    "\n",
    "######calculate teh beam size of the original image:\n",
    "\n",
    "if (header['CUNIT1'].find(\"deg\")!=-1):\n",
    "    CUNIT = 1*u.degree\n",
    "    Pointing_Information[\"CUNIT\"]=CUNIT\n",
    "else:\n",
    "    print(\"The header should show CUNIT in degrees. If not, just fix this or write CUNIT = the unit it says in the header\")\n",
    "    del jhgasdhgjkahsdkgdfjhsgjgjsdhkfjghjd #this causes an error and stops execution \n",
    "    \n",
    "beam_major =  (header[\"BMAJ\"]*CUNIT).to(u.arcsec) #degrees beam size -> arcsec\n",
    "beam_minor =  (header[\"BMIN\"]*CUNIT).to(u.arcsec)\n",
    "\n",
    "\n",
    "Pointing_Information[\"original_BMAJ\"]=beam_major\n",
    "Pointing_Information[\"original_BMIN\"]=beam_minor\n",
    "Pointing_Information[\"original_BMAJ_pc\"]=beam_major.to(u.rad)*Pointing_Information['distance']\n",
    "Pointing_Information[\"original_BMIN_pc\"]=beam_minor.to(u.rad)*Pointing_Information['distance']\n",
    "Pointing_Information[\"desired_beam_size\"] = desired_beam_size #ill put it in a circular beam at this size\n",
    "\n",
    "\n",
    "#this accounts for elliptical beams:            \n",
    "Pointing_Information['original_pixel_scale_x'] = (abs(header[\"CDELT1\"])*CUNIT.to(u.arcsec))/u.pix\n",
    "Pointing_Information['original_pixel_scale_y'] = (abs(header[\"CDELT2\"])*CUNIT.to(u.arcsec))/u.pix\n",
    "Pointing_Information['original_spatial_scale_x'] = (abs(header[\"CDELT1\"])*CUNIT.to(u.rad))/u.pix*Pointing_Information['distance']\n",
    "Pointing_Information['original_spatial_scale_y'] = (abs(header[\"CDELT2\"])*CUNIT.to(u.rad))/u.pix*Pointing_Information['distance']#convert to pc using the distance\n",
    "\n",
    "average_pixel=np.sqrt((abs(header[\"CDELT1\"])*CUNIT.to(u.arcsec))/u.pix*(abs(header[\"CDELT2\"])*CUNIT.to(u.arcsec))/u.pix)\n",
    "\n",
    "Pointing_Information['original_beam_oversampling_MAJ'] = beam_major/average_pixel\n",
    "Pointing_Information['original_beam_oversampling_MIN'] = beam_minor/average_pixel\n",
    "Pointing_Information['desired_beam_oversampling'] = ovs\n",
    "#Pointing_Information['orig_FOV']= Crop_Around_Center(sc,Pointing_Information['target_image_rotation'],Pointing_Information['center'],desired_FOV,Pointing_Information['distance'])[1] #returns the current fov\n",
    "Pointing_Information['desired_FOV']=desired_FOV\n",
    "\n",
    "######\n",
    "\n",
    "Cube_Information = Update_Cube_Information(Pointing_Information,Pointing_Information[\"Original_File_Name\"])\n"
   ]
  },
  {
   "cell_type": "markdown",
   "id": "2974f75b-0f52-4151-8fea-49b866e86f60",
   "metadata": {},
   "source": [
    "# 1. Reprojection"
   ]
  },
  {
   "cell_type": "code",
   "execution_count": 24,
   "id": "c7e42666-0842-4541-ab38-03497c3bf43b",
   "metadata": {
    "collapsed": true,
    "jupyter": {
     "outputs_hidden": true
    },
    "tags": []
   },
   "outputs": [
    {
     "name": "stdout",
     "output_type": "stream",
     "text": [
      "begin step: 0 of 117\n",
      "starting cube rotation\n",
      "finished cube rotation\n",
      "start beam convolution\n",
      "0.0 -1.3079497414445505\n",
      "1.0453344121534973e-09 2.444304236413215e-10\n",
      "convolve end\n",
      "\n",
      "fov crop start \n",
      "\n",
      "Center: <SkyCoord (ICRS): (ra, dec) in deg\n",
      "    (11.88808333, -25.2882)> Pixel center: 471 508 Pixel FOV: [82, 412]\n",
      "cropping cube. rotation: 0.0 deg center: <SkyCoord (ICRS): (ra, dec) in deg\n",
      "    (11.88808333, -25.2882)> crop to: [140. 700.] pc\n",
      "(938, 1073) 0.0\n"
     ]
    },
    {
     "ename": "KeyboardInterrupt",
     "evalue": "",
     "output_type": "error",
     "traceback": [
      "\u001b[0;31m---------------------------------------------------------------------------\u001b[0m",
      "\u001b[0;31mKeyboardInterrupt\u001b[0m                         Traceback (most recent call last)",
      "\u001b[0;32m/tmp/ipykernel_549601/751128737.py\u001b[0m in \u001b[0;36m<module>\u001b[0;34m\u001b[0m\n\u001b[1;32m      4\u001b[0m \u001b[0;31m# def Reproject_To_Region(Pointing_Information,Cube_Information,i_step=30,Cube_Name_Save='',Force_Origin=[False,[0,0]*u.deg,[0,0]*u.deg]):\u001b[0m\u001b[0;34m\u001b[0m\u001b[0;34m\u001b[0m\u001b[0;34m\u001b[0m\u001b[0m\n\u001b[1;32m      5\u001b[0m \u001b[0;34m\u001b[0m\u001b[0m\n\u001b[0;32m----> 6\u001b[0;31m \u001b[0mReproject_To_Region\u001b[0m\u001b[0;34m(\u001b[0m\u001b[0mPointing_Information\u001b[0m\u001b[0;34m,\u001b[0m\u001b[0mCube_Information\u001b[0m\u001b[0;34m,\u001b[0m\u001b[0mi_step\u001b[0m\u001b[0;34m=\u001b[0m\u001b[0;36m2\u001b[0m\u001b[0;34m,\u001b[0m\u001b[0mCube_Name_Save\u001b[0m\u001b[0;34m=\u001b[0m\u001b[0;34m''\u001b[0m\u001b[0;34m,\u001b[0m\u001b[0mForce_Origin\u001b[0m\u001b[0;34m=\u001b[0m\u001b[0;34m[\u001b[0m\u001b[0;32mFalse\u001b[0m\u001b[0;34m,\u001b[0m\u001b[0;34m[\u001b[0m\u001b[0;36m0\u001b[0m\u001b[0;34m,\u001b[0m\u001b[0;36m0\u001b[0m\u001b[0;34m]\u001b[0m\u001b[0;34m*\u001b[0m\u001b[0mu\u001b[0m\u001b[0;34m.\u001b[0m\u001b[0mdeg\u001b[0m\u001b[0;34m,\u001b[0m\u001b[0;34m[\u001b[0m\u001b[0;36m0\u001b[0m\u001b[0;34m,\u001b[0m\u001b[0;36m0\u001b[0m\u001b[0;34m]\u001b[0m\u001b[0;34m*\u001b[0m\u001b[0mu\u001b[0m\u001b[0;34m.\u001b[0m\u001b[0mdeg\u001b[0m\u001b[0;34m]\u001b[0m\u001b[0;34m,\u001b[0m\u001b[0mpartway\u001b[0m\u001b[0;34m=\u001b[0m\u001b[0;32mFalse\u001b[0m\u001b[0;34m,\u001b[0m\u001b[0mcrop_nans\u001b[0m\u001b[0;34m=\u001b[0m\u001b[0;32mTrue\u001b[0m\u001b[0;34m)\u001b[0m\u001b[0;34m\u001b[0m\u001b[0;34m\u001b[0m\u001b[0m\n\u001b[0m\u001b[1;32m      7\u001b[0m \u001b[0;34m\u001b[0m\u001b[0m\n\u001b[1;32m      8\u001b[0m \u001b[0;31m# This is the cube name that they are being saved to unless you changed it inside the reproject functions definiton\u001b[0m\u001b[0;34m\u001b[0m\u001b[0;34m\u001b[0m\u001b[0;34m\u001b[0m\u001b[0m\n",
      "\u001b[0;32m/tmp/ipykernel_549601/393924254.py\u001b[0m in \u001b[0;36mReproject_To_Region\u001b[0;34m(Pointing_Information, Cube_Information, i_step, Cube_Name_Save, Force_Origin, partway, crop_nans, change_origins, force_pixels, fy, fx, GLON_BASE)\u001b[0m\n\u001b[1;32m    149\u001b[0m \u001b[0;34m\u001b[0m\u001b[0m\n\u001b[1;32m    150\u001b[0m \u001b[0;34m\u001b[0m\u001b[0m\n\u001b[0;32m--> 151\u001b[0;31m             \u001b[0mcropped_sc\u001b[0m \u001b[0;34m=\u001b[0m \u001b[0mCrop_Around_Center\u001b[0m\u001b[0;34m(\u001b[0m\u001b[0msc\u001b[0m\u001b[0;34m,\u001b[0m\u001b[0mrotation_angle\u001b[0m\u001b[0;34m,\u001b[0m\u001b[0mcenter\u001b[0m\u001b[0;34m,\u001b[0m\u001b[0mFOV\u001b[0m\u001b[0;34m,\u001b[0m\u001b[0mdistance\u001b[0m\u001b[0;34m,\u001b[0m\u001b[0mcrop_nans\u001b[0m\u001b[0;34m=\u001b[0m\u001b[0mcrop_nans\u001b[0m\u001b[0;34m)\u001b[0m\u001b[0;34m\u001b[0m\u001b[0;34m\u001b[0m\u001b[0m\n\u001b[0m\u001b[1;32m    152\u001b[0m             \u001b[0;32mdel\u001b[0m \u001b[0msc\u001b[0m\u001b[0;34m\u001b[0m\u001b[0;34m\u001b[0m\u001b[0m\n\u001b[1;32m    153\u001b[0m             \u001b[0msc\u001b[0m \u001b[0;34m=\u001b[0m \u001b[0mcropped_sc\u001b[0m\u001b[0;34m\u001b[0m\u001b[0;34m\u001b[0m\u001b[0m\n",
      "\u001b[0;32m/tmp/ipykernel_549601/1712599289.py\u001b[0m in \u001b[0;36mCrop_Around_Center\u001b[0;34m(sc_for_cropping, rotation_angle, center, desired_fov, distance, crop_nans)\u001b[0m\n\u001b[1;32m    114\u001b[0m \u001b[0;34m\u001b[0m\u001b[0m\n\u001b[1;32m    115\u001b[0m             \u001b[0;32mif\u001b[0m\u001b[0;34m(\u001b[0m\u001b[0mex\u001b[0m\u001b[0;34m==\u001b[0m\u001b[0;36m0\u001b[0m\u001b[0;34m)\u001b[0m\u001b[0;34m:\u001b[0m\u001b[0;34m\u001b[0m\u001b[0;34m\u001b[0m\u001b[0m\n\u001b[0;32m--> 116\u001b[0;31m                 \u001b[0;32mif\u001b[0m\u001b[0;34m(\u001b[0m\u001b[0mnp\u001b[0m\u001b[0;34m.\u001b[0m\u001b[0mnanmean\u001b[0m\u001b[0;34m(\u001b[0m\u001b[0mdat_sum\u001b[0m\u001b[0;34m[\u001b[0m\u001b[0mnp\u001b[0m\u001b[0;34m.\u001b[0m\u001b[0mshape\u001b[0m\u001b[0;34m(\u001b[0m\u001b[0mdat_sum\u001b[0m\u001b[0;34m[\u001b[0m\u001b[0;34m:\u001b[0m\u001b[0;34m,\u001b[0m\u001b[0;34m:\u001b[0m\u001b[0;34m]\u001b[0m\u001b[0;34m)\u001b[0m\u001b[0;34m[\u001b[0m\u001b[0;36m0\u001b[0m\u001b[0;34m]\u001b[0m\u001b[0;34m-\u001b[0m\u001b[0mlmi\u001b[0m\u001b[0;34m-\u001b[0m\u001b[0;36m1\u001b[0m\u001b[0;34m,\u001b[0m\u001b[0;34m:\u001b[0m\u001b[0;34m]\u001b[0m\u001b[0;34m)\u001b[0m\u001b[0;34m>\u001b[0m\u001b[0;36m0\u001b[0m \u001b[0;32mor\u001b[0m \u001b[0mnp\u001b[0m\u001b[0;34m.\u001b[0m\u001b[0mnanmean\u001b[0m\u001b[0;34m(\u001b[0m\u001b[0mdat_sum\u001b[0m\u001b[0;34m[\u001b[0m\u001b[0mnp\u001b[0m\u001b[0;34m.\u001b[0m\u001b[0mshape\u001b[0m\u001b[0;34m(\u001b[0m\u001b[0mdat_sum\u001b[0m\u001b[0;34m[\u001b[0m\u001b[0;34m:\u001b[0m\u001b[0;34m,\u001b[0m\u001b[0;34m:\u001b[0m\u001b[0;34m]\u001b[0m\u001b[0;34m)\u001b[0m\u001b[0;34m[\u001b[0m\u001b[0;36m0\u001b[0m\u001b[0;34m]\u001b[0m\u001b[0;34m-\u001b[0m\u001b[0mlmi\u001b[0m\u001b[0;34m-\u001b[0m\u001b[0;36m1\u001b[0m\u001b[0;34m,\u001b[0m\u001b[0;34m:\u001b[0m\u001b[0;34m]\u001b[0m\u001b[0;34m)\u001b[0m\u001b[0;34m<\u001b[0m\u001b[0;36m0\u001b[0m\u001b[0;34m)\u001b[0m\u001b[0;34m:\u001b[0m\u001b[0;34m\u001b[0m\u001b[0;34m\u001b[0m\u001b[0m\n\u001b[0m\u001b[1;32m    117\u001b[0m                     \u001b[0mex\u001b[0m\u001b[0;34m=\u001b[0m\u001b[0mnp\u001b[0m\u001b[0;34m.\u001b[0m\u001b[0mshape\u001b[0m\u001b[0;34m(\u001b[0m\u001b[0mdat_sum\u001b[0m\u001b[0;34m[\u001b[0m\u001b[0;34m:\u001b[0m\u001b[0;34m,\u001b[0m\u001b[0;34m:\u001b[0m\u001b[0;34m]\u001b[0m\u001b[0;34m)\u001b[0m\u001b[0;34m[\u001b[0m\u001b[0;36m0\u001b[0m\u001b[0;34m]\u001b[0m\u001b[0;34m-\u001b[0m\u001b[0mlmi\u001b[0m\u001b[0;34m-\u001b[0m\u001b[0;36m1\u001b[0m\u001b[0;34m\u001b[0m\u001b[0;34m\u001b[0m\u001b[0m\n\u001b[1;32m    118\u001b[0m \u001b[0;34m\u001b[0m\u001b[0m\n",
      "\u001b[0;32m~/.local/lib/python3.8/site-packages/numpy/core/overrides.py\u001b[0m in \u001b[0;36mnanmean\u001b[0;34m(*args, **kwargs)\u001b[0m\n",
      "\u001b[0;32m~/.local/lib/python3.8/site-packages/numpy/lib/nanfunctions.py\u001b[0m in \u001b[0;36mnanmean\u001b[0;34m(a, axis, dtype, out, keepdims, where)\u001b[0m\n\u001b[1;32m   1046\u001b[0m     tot = np.sum(arr, axis=axis, dtype=dtype, out=out, keepdims=keepdims,\n\u001b[1;32m   1047\u001b[0m                  where=where)\n\u001b[0;32m-> 1048\u001b[0;31m     \u001b[0mavg\u001b[0m \u001b[0;34m=\u001b[0m \u001b[0m_divide_by_count\u001b[0m\u001b[0;34m(\u001b[0m\u001b[0mtot\u001b[0m\u001b[0;34m,\u001b[0m \u001b[0mcnt\u001b[0m\u001b[0;34m,\u001b[0m \u001b[0mout\u001b[0m\u001b[0;34m=\u001b[0m\u001b[0mout\u001b[0m\u001b[0;34m)\u001b[0m\u001b[0;34m\u001b[0m\u001b[0;34m\u001b[0m\u001b[0m\n\u001b[0m\u001b[1;32m   1049\u001b[0m \u001b[0;34m\u001b[0m\u001b[0m\n\u001b[1;32m   1050\u001b[0m     \u001b[0misbad\u001b[0m \u001b[0;34m=\u001b[0m \u001b[0;34m(\u001b[0m\u001b[0mcnt\u001b[0m \u001b[0;34m==\u001b[0m \u001b[0;36m0\u001b[0m\u001b[0;34m)\u001b[0m\u001b[0;34m\u001b[0m\u001b[0;34m\u001b[0m\u001b[0m\n",
      "\u001b[0;32m~/.local/lib/python3.8/site-packages/numpy/lib/nanfunctions.py\u001b[0m in \u001b[0;36m_divide_by_count\u001b[0;34m(a, b, out)\u001b[0m\n\u001b[1;32m    210\u001b[0m \u001b[0;34m\u001b[0m\u001b[0m\n\u001b[1;32m    211\u001b[0m     \"\"\"\n\u001b[0;32m--> 212\u001b[0;31m     \u001b[0;32mwith\u001b[0m \u001b[0mnp\u001b[0m\u001b[0;34m.\u001b[0m\u001b[0merrstate\u001b[0m\u001b[0;34m(\u001b[0m\u001b[0minvalid\u001b[0m\u001b[0;34m=\u001b[0m\u001b[0;34m'ignore'\u001b[0m\u001b[0;34m,\u001b[0m \u001b[0mdivide\u001b[0m\u001b[0;34m=\u001b[0m\u001b[0;34m'ignore'\u001b[0m\u001b[0;34m)\u001b[0m\u001b[0;34m:\u001b[0m\u001b[0;34m\u001b[0m\u001b[0;34m\u001b[0m\u001b[0m\n\u001b[0m\u001b[1;32m    213\u001b[0m         \u001b[0;32mif\u001b[0m \u001b[0misinstance\u001b[0m\u001b[0;34m(\u001b[0m\u001b[0ma\u001b[0m\u001b[0;34m,\u001b[0m \u001b[0mnp\u001b[0m\u001b[0;34m.\u001b[0m\u001b[0mndarray\u001b[0m\u001b[0;34m)\u001b[0m\u001b[0;34m:\u001b[0m\u001b[0;34m\u001b[0m\u001b[0;34m\u001b[0m\u001b[0m\n\u001b[1;32m    214\u001b[0m             \u001b[0;32mif\u001b[0m \u001b[0mout\u001b[0m \u001b[0;32mis\u001b[0m \u001b[0;32mNone\u001b[0m\u001b[0;34m:\u001b[0m\u001b[0;34m\u001b[0m\u001b[0;34m\u001b[0m\u001b[0m\n",
      "\u001b[0;32m~/.local/lib/python3.8/site-packages/numpy/core/_ufunc_config.py\u001b[0m in \u001b[0;36m__enter__\u001b[0;34m(self)\u001b[0m\n\u001b[1;32m    428\u001b[0m \u001b[0;34m\u001b[0m\u001b[0m\n\u001b[1;32m    429\u001b[0m     \u001b[0;32mdef\u001b[0m \u001b[0m__enter__\u001b[0m\u001b[0;34m(\u001b[0m\u001b[0mself\u001b[0m\u001b[0;34m)\u001b[0m\u001b[0;34m:\u001b[0m\u001b[0;34m\u001b[0m\u001b[0;34m\u001b[0m\u001b[0m\n\u001b[0;32m--> 430\u001b[0;31m         \u001b[0mself\u001b[0m\u001b[0;34m.\u001b[0m\u001b[0moldstate\u001b[0m \u001b[0;34m=\u001b[0m \u001b[0mseterr\u001b[0m\u001b[0;34m(\u001b[0m\u001b[0;34m**\u001b[0m\u001b[0mself\u001b[0m\u001b[0;34m.\u001b[0m\u001b[0mkwargs\u001b[0m\u001b[0;34m)\u001b[0m\u001b[0;34m\u001b[0m\u001b[0;34m\u001b[0m\u001b[0m\n\u001b[0m\u001b[1;32m    431\u001b[0m         \u001b[0;32mif\u001b[0m \u001b[0mself\u001b[0m\u001b[0;34m.\u001b[0m\u001b[0mcall\u001b[0m \u001b[0;32mis\u001b[0m \u001b[0;32mnot\u001b[0m \u001b[0m_Unspecified\u001b[0m\u001b[0;34m:\u001b[0m\u001b[0;34m\u001b[0m\u001b[0;34m\u001b[0m\u001b[0m\n\u001b[1;32m    432\u001b[0m             \u001b[0mself\u001b[0m\u001b[0;34m.\u001b[0m\u001b[0moldcall\u001b[0m \u001b[0;34m=\u001b[0m \u001b[0mseterrcall\u001b[0m\u001b[0;34m(\u001b[0m\u001b[0mself\u001b[0m\u001b[0;34m.\u001b[0m\u001b[0mcall\u001b[0m\u001b[0;34m)\u001b[0m\u001b[0;34m\u001b[0m\u001b[0;34m\u001b[0m\u001b[0m\n",
      "\u001b[0;32m~/.local/lib/python3.8/site-packages/numpy/core/_ufunc_config.py\u001b[0m in \u001b[0;36mseterr\u001b[0;34m(all, divide, over, under, invalid)\u001b[0m\n\u001b[1;32m    108\u001b[0m \u001b[0;34m\u001b[0m\u001b[0m\n\u001b[1;32m    109\u001b[0m     \u001b[0mpyvals\u001b[0m \u001b[0;34m=\u001b[0m \u001b[0mumath\u001b[0m\u001b[0;34m.\u001b[0m\u001b[0mgeterrobj\u001b[0m\u001b[0;34m(\u001b[0m\u001b[0;34m)\u001b[0m\u001b[0;34m\u001b[0m\u001b[0;34m\u001b[0m\u001b[0m\n\u001b[0;32m--> 110\u001b[0;31m     \u001b[0mold\u001b[0m \u001b[0;34m=\u001b[0m \u001b[0mgeterr\u001b[0m\u001b[0;34m(\u001b[0m\u001b[0;34m)\u001b[0m\u001b[0;34m\u001b[0m\u001b[0;34m\u001b[0m\u001b[0m\n\u001b[0m\u001b[1;32m    111\u001b[0m \u001b[0;34m\u001b[0m\u001b[0m\n\u001b[1;32m    112\u001b[0m     \u001b[0;32mif\u001b[0m \u001b[0mdivide\u001b[0m \u001b[0;32mis\u001b[0m \u001b[0;32mNone\u001b[0m\u001b[0;34m:\u001b[0m\u001b[0;34m\u001b[0m\u001b[0;34m\u001b[0m\u001b[0m\n",
      "\u001b[0;32m~/.local/lib/python3.8/site-packages/numpy/core/_ufunc_config.py\u001b[0m in \u001b[0;36mgeterr\u001b[0;34m()\u001b[0m\n\u001b[1;32m    165\u001b[0m \u001b[0;34m\u001b[0m\u001b[0m\n\u001b[1;32m    166\u001b[0m     \"\"\"\n\u001b[0;32m--> 167\u001b[0;31m     \u001b[0mmaskvalue\u001b[0m \u001b[0;34m=\u001b[0m \u001b[0mumath\u001b[0m\u001b[0;34m.\u001b[0m\u001b[0mgeterrobj\u001b[0m\u001b[0;34m(\u001b[0m\u001b[0;34m)\u001b[0m\u001b[0;34m[\u001b[0m\u001b[0;36m1\u001b[0m\u001b[0;34m]\u001b[0m\u001b[0;34m\u001b[0m\u001b[0;34m\u001b[0m\u001b[0m\n\u001b[0m\u001b[1;32m    168\u001b[0m     \u001b[0mmask\u001b[0m \u001b[0;34m=\u001b[0m \u001b[0;36m7\u001b[0m\u001b[0;34m\u001b[0m\u001b[0;34m\u001b[0m\u001b[0m\n\u001b[1;32m    169\u001b[0m     \u001b[0mres\u001b[0m \u001b[0;34m=\u001b[0m \u001b[0;34m{\u001b[0m\u001b[0;34m}\u001b[0m\u001b[0;34m\u001b[0m\u001b[0;34m\u001b[0m\u001b[0m\n",
      "\u001b[0;31mKeyboardInterrupt\u001b[0m: "
     ]
    }
   ],
   "source": [
    "gc.collect()\n",
    "\n",
    "#\n",
    "# def Reproject_To_Region(Pointing_Information,Cube_Information,i_step=30,Cube_Name_Save='',Force_Origin=[False,[0,0]*u.deg,[0,0]*u.deg]):\n",
    "\n",
    "Reproject_To_Region(Pointing_Information,Cube_Information,i_step=30,Cube_Name_Save='',Force_Origin=[False,[0,0]*u.deg,[0,0]*u.deg],partway=False,crop_nans=False)\n",
    "    \n",
    "# This is the cube name that they are being saved to unless you changed it inside the reproject functions definiton\n",
    "\n",
    "Cube_Name_Save = str(Pointing_Information[\"desired_beam_size\"].value)+\"pc_beam_\"+Pointing_Information[\"File_Descriptor\"]+str(Pointing_Information[\"desired_FOV\"][0].value)+\"x\"+str(Pointing_Information[\"desired_FOV\"][1].value)+'pc_'+'reprojected.fits'\n",
    "\n",
    "gc.collect()\n",
    "\n",
    "print(\"done\")\n"
   ]
  },
  {
   "cell_type": "markdown",
   "id": "42552c87-05bc-49d4-80ac-2b57f694a48e",
   "metadata": {},
   "source": [
    "# 1a. Splice the reprojected cubes back together"
   ]
  },
  {
   "cell_type": "code",
   "execution_count": null,
   "id": "8871ed29-ffaa-4905-96d3-f4b7cdf881fe",
   "metadata": {
    "tags": []
   },
   "outputs": [],
   "source": [
    "# First, splice the partwise cubes back together\n",
    "\n",
    "Cube_Name_Save = str(Pointing_Information[\"desired_beam_size\"].value)+\"pc_beam_\"+Pointing_Information[\"File_Descriptor\"]+str(Pointing_Information[\"desired_FOV\"][0].value)+\"x\"+str(Pointing_Information[\"desired_FOV\"][1].value)+'pc_'+'reprojected.fits'\n",
    "\n",
    "Splice_vels(Cube_Name_Load=Cube_Name_Save,crop=[[0,99999999],[907,1400]])\n",
    "\n",
    "Cube_Information = Update_Cube_Information(Pointing_Information,Cube_Name_Save)\n",
    "\n",
    "gc.collect()\n",
    "\n",
    "print(\"done\")"
   ]
  },
  {
   "cell_type": "markdown",
   "id": "2ad83455-839d-4964-8bbf-95956dddf9dd",
   "metadata": {},
   "source": [
    "# 1b. Velocity reprojection"
   ]
  },
  {
   "cell_type": "code",
   "execution_count": null,
   "id": "6d0f831b-1756-43d1-987c-fa7729d981e8",
   "metadata": {
    "tags": []
   },
   "outputs": [],
   "source": [
    "Cube_Name_Save = str(Pointing_Information[\"desired_beam_size\"].value)+\"pc_beam_\"+Pointing_Information[\"File_Descriptor\"]+str(Pointing_Information[\"desired_FOV\"][0].value)+\"x\"+str(Pointing_Information[\"desired_FOV\"][1].value)+'pc_'+'reprojected.fits'\n",
    "\n",
    "Cube_Information = Update_Cube_Information(Pointing_Information,Cube_Name_Save)\n",
    "\n",
    "# Load the spliced cube\n",
    "\n",
    "sc = SpectralCube.read((\"Spectral Cubes/\"+Cube_Name_Save)) \n",
    "\n",
    "# Reproject the spliced Cube's veloctiy axis\n",
    "\n",
    "Repo_Velocity(sc,Cube_Name_Save,Cube_Information)\n",
    "\n",
    "# Here is the new cube's name\n",
    "\n",
    "Cube_Name_Save = Cube_Name_Save[0:len(Cube_Name_Save)-5]+\"_\"+str(Pointing_Information[\"desired_velocity_resolution\"].value)+'_vel_res_'+'.fits'\n",
    "\n",
    "del sc\n",
    "\n",
    "gc.collect()"
   ]
  },
  {
   "cell_type": "markdown",
   "id": "3cb34a6b-8fec-4fee-be76-6ff4c9816fd2",
   "metadata": {},
   "source": [
    "# 1c. Fix repeated pixels"
   ]
  },
  {
   "cell_type": "code",
   "execution_count": 35,
   "id": "717f2a58-3d55-4e60-a152-f8e294cb0045",
   "metadata": {
    "tags": []
   },
   "outputs": [
    {
     "name": "stdout",
     "output_type": "stream",
     "text": [
      "Good data starting from channel 0 ; start has been cropped to that channel\n",
      "Good data ending at channel 200 ; end has been cropped to that channel\n",
      "Center: <SkyCoord (FK5: equinox=2000.0): (ra, dec) in deg\n",
      "    (11.89513942, -25.28740262)> Pixel center: 0 0 Pixel FOV: [291666666663750, 291666666666664128]\n",
      "cropping cube. rotation: 0.0 deg center: <SkyCoord (FK5: equinox=2000.0): (ra, dec) in deg\n",
      "    (11.89513942, -25.28740262)> crop to: [1.e+11 1.e+14] pc\n",
      "Cropped to  [1.e+11 1.e+14] pc pixels 171 399 17 1168\n",
      "Cropped cube saved as  Spectral Cubes/Cropped_3.0pc_beam_NGC_253_H13CN_J4-3_140.0x700.0pc_reprojected_2.5_vel_res_.fits\n"
     ]
    }
   ],
   "source": [
    "# after the reprojection, there may be duplicated data from the fact that it just fills in stuff \n",
    "# expecting new data to be there. This fixes it by checking to see if it matches other data, then removes\n",
    "# the repeated slices. in other words, it may be set to reproject to 0-500 km/s through the velocity channels\n",
    "# but there may only be data between 100-400, so it will fill it in with copied data channels. This will check for those.\n",
    "\n",
    "\n",
    "\n",
    "# Update to the current cube name\n",
    "\n",
    "Cube_Name_Save = str(Pointing_Information[\"desired_beam_size\"].value)+\"pc_beam_\"+Pointing_Information[\"File_Descriptor\"]+str(Pointing_Information[\"desired_FOV\"][0].value)+\"x\"+str(Pointing_Information[\"desired_FOV\"][1].value)+'pc_'+'reprojected.fits'\n",
    "Cube_Name_Save = Cube_Name_Save[0:len(Cube_Name_Save)-5]+\"_\"+str(Pointing_Information[\"desired_velocity_resolution\"].value)+'_vel_res_'+'.fits'\n",
    "\n",
    "Cube_Information = Update_Cube_Information(Pointing_Information,Cube_Name_Save)\n",
    "\n",
    "# Run the function to crop the nan values out of the cube\n",
    "\n",
    "Remove_Repeated_Pixels(Cube_Name_Save,crop_nans=True)"
   ]
  },
  {
   "cell_type": "markdown",
   "id": "77c9e424-23c1-4a3d-8069-a7871e72b938",
   "metadata": {},
   "source": [
    "# x. save cube information"
   ]
  },
  {
   "cell_type": "code",
   "execution_count": 36,
   "id": "2310263d-4e01-4bdf-aa11-d04fe7b81ffa",
   "metadata": {},
   "outputs": [
    {
     "name": "stdout",
     "output_type": "stream",
     "text": [
      "{'Original_File_Name': 'NGC253.H13CN_4-3.pbcor.fits', 'File_Descriptor': 'NGC_253_H13CN_J4-3_', 'target': 'NGC253', 'center': <SkyCoord (ICRS): (ra, dec) in deg\n",
      "    (11.88808333, -25.2882)>, 'distance': <Quantity 3.5 Mpc>, 'target_image_rotation': <Quantity 33. deg>, 'target_inclination': <Quantity 78. deg>, 'target_velocity': <Quantity 250. km / s>, 'vaxis': 0, 'desired_velocity_resolution': <Quantity 2.5 km / s>, 'Corresponding_Continuum': 'Continuum_Reproject.fits', 'wavelength': <Quantity 0.00086811 m>, 'restfreq': <Quantity 3.4533977e+11 Hz>, 'CUNIT': <Quantity 1. deg>, 'original_BMAJ': <Quantity 0.17 arcsec>, 'original_BMIN': <Quantity 0.13 arcsec>, 'original_BMAJ_pc': <Quantity 2.8846414e-06 Mpc rad>, 'original_BMIN_pc': <Quantity 2.20590225e-06 Mpc rad>, 'desired_beam_size': <Quantity 3. pc>, 'original_pixel_scale_x': <Quantity 0.05 arcsec / pix>, 'original_pixel_scale_y': <Quantity 0.05 arcsec / pix>, 'original_spatial_scale_x': <Quantity 8.48423942e-07 Mpc rad / pix>, 'original_spatial_scale_y': <Quantity 8.48423942e-07 Mpc rad / pix>, 'original_beam_oversampling_MAJ': <Quantity 3.4 pix>, 'original_beam_oversampling_MIN': <Quantity 2.6 pix>, 'desired_beam_oversampling': 5, 'desired_FOV': <Quantity [140., 700.] pc>, 'File_Name': 'Cropped_3.0pc_beam_NGC_253_H13CN_J4-3_140.0x700.0pc_reprojected_2.5_vel_res_.fits', 'data_unit': Unit(\"K\"), 'arc_per_pix_y': <Quantity 0.03535968 arcsec / pix>, 'arc_per_pix_x': <Quantity 0.03535968 arcsec / pix>, 'Beam_Position_angle': <Quantity 0. deg>, 'beam_major': <Quantity 0.17679841 arcsec>, 'beam_minor': <Quantity 0.17679841 arcsec>, 'beam_area_ratio': <Quantity 28.32725 pix2 / beam>, 'spatial_scale_x': <Quantity 6.e-07 Mpc / pix>, 'spatial_scale_y': <Quantity 6.e-07 Mpc / pix>, 'spatial_scale': <Quantity 0.03535968 arcsec>, 'velocity_scale': <Quantity 2.50001668 km / s>, 'beam_oversampling': <Quantity 5. pix>, 'wcsu': WCS Keywords\n",
      "\n",
      "Number of WCS axes: 3\n",
      "CTYPE : 'RA---SIN'  'DEC--SIN'  'VRAD-F2F'  \n",
      "CRVAL : 11.895693160612  -25.295369247995  -1000.0033356507001  \n",
      "CRPIX : 383.0  -878.0  1.0  \n",
      "PC1_1 PC1_2 PC1_3  : 0.83867056794542  0.54463903501503  0.0  \n",
      "PC2_1 PC2_2 PC2_3  : -0.54463903501503  0.83867056794542  0.0  \n",
      "PC3_1 PC3_2 PC3_3  : 0.0  0.0  1.0  \n",
      "CDELT : -9.8221336308141e-06  9.8221336308141e-06  2500.0166782881997  \n",
      "NAXIS : 1151  228  200}\n"
     ]
    }
   ],
   "source": [
    "# Now that all the data reduction is concluded, save information about the new cubes\n",
    "\n",
    "Cube_Name_Save = str(Pointing_Information[\"desired_beam_size\"].value)+\"pc_beam_\"+Pointing_Information[\"File_Descriptor\"]+str(Pointing_Information[\"desired_FOV\"][0].value)+\"x\"+str(Pointing_Information[\"desired_FOV\"][1].value)+'pc_'+'reprojected.fits'\n",
    "Cube_Name_Save = \"Cropped_\"+Cube_Name_Save[0:len(Cube_Name_Save)-5]+\"_\"+str(Pointing_Information[\"desired_velocity_resolution\"].value)+'_vel_res_'+'.fits'\n",
    "\n",
    "Cube_Information = Update_Cube_Information(Pointing_Information,Cube_Name_Save)\n",
    "\n",
    "import pickle \n",
    "\n",
    "with open(\"Spectral Cubes/Cube Information/\"+File_Descriptor+\"_Cube_Information\", 'wb') as file:\n",
    "    pickle.dump(Cube_Information, file)\n",
    "\n",
    "with open(\"Spectral Cubes/Cube Information/\"+File_Descriptor+\"_Pointing_Information\", 'wb') as file:\n",
    "    pickle.dump(Pointing_Information, file)\n",
    "\n",
    "print(Cube_Information)"
   ]
  },
  {
   "cell_type": "code",
   "execution_count": null,
   "id": "b0655e45-c310-4e67-a7d1-b4a3196f4de5",
   "metadata": {},
   "outputs": [],
   "source": []
  },
  {
   "cell_type": "markdown",
   "id": "09d0c0cc-8661-4450-913c-bfbd842fbe81",
   "metadata": {},
   "source": [
    "# xb. Noise matching "
   ]
  },
  {
   "cell_type": "markdown",
   "id": "aa6e54be-24dd-4c6a-a76a-24bac8b4bdf0",
   "metadata": {
    "tags": []
   },
   "source": [
    "#There are slight non-uniform noise spaces near the edge of the cube, but they will not be corrected\n",
    "if Pointing_Information[\"noise_matched\"]:\n",
    "    print(\"The cube already has spatially uniform noise\")\n",
    "    pass\n",
    "else\n",
    "    # Return an input cube matched to the given nosie\n",
    "\n",
    "    Cube_Name_Save = str(Pointing_Information[\"desired_beam_size\"].value)+\"pc_beam_\"+Pointing_Information[\"File_Descriptor\"]+str(Pointing_Information[\"desired_FOV\"][0].value)+\"x\"+str(Pointing_Information[\"desired_FOV\"][1].value)+'pc_'+'reprojected.fits'\n",
    "    Cube_Name_Save = \"Cropped_\"+Cube_Name_Save[0:len(Cube_Name_Save)-5]+\"_\"+str(Pointing_Information[\"desired_velocity_resolution\"].value)+'_vel_res_'+'.fits'\n",
    "\n",
    "    Q  = SpectralCube.read(\"Spectral Cubes/\"+Cube_Name_Save)\n",
    "\n",
    "    NM_Cube = Noise_matching(Input_Cube=Q,m=(.115*u.K))\n",
    "\n",
    "\n",
    "    Cube_Name_Save = \"NM_\"+Cube_Name_Save\n",
    "\n",
    "    NM_Cube.write(\"Spectral Cubes/\"+Cube_Name_Save)\n",
    "\n",
    "    Cube_Information = Update_Cube_Information(Pointing_Information,Cube_Name_Save)\n",
    "\n",
    "    import pickle \n",
    "\n",
    "    with open(\"Spectral Cubes/Cube Information/\"+File_Descriptor+\"_Cube_Information\", 'wb') as file:\n",
    "        pickle.dump(Cube_Information, file)\n",
    "\n",
    "    with open(\"Spectral Cubes/Cube Information/\"+File_Descriptor+\"_Pointing_Information\", 'wb') as file:\n",
    "        pickle.dump(Pointing_Information, file)\n",
    "\n",
    "    print(Cube_Information)\n"
   ]
  },
  {
   "cell_type": "markdown",
   "id": "6fea47da-4c17-404c-9d47-224e606b43cd",
   "metadata": {
    "jupyter": {
     "outputs_hidden": true
    },
    "tags": []
   },
   "source": [
    "Cube_Information = Update_Cube_Information(Pointing_Information,Cube_Name_Save)\n",
    "\n",
    "import pickle \n",
    "\n",
    "with open(\"Spectral Cubes/Cube Information/\"+File_Descriptor+\"_Cube_Information\", 'wb') as file:\n",
    "    pickle.dump(Cube_Information, file)\n",
    "\n",
    "with open(\"Spectral Cubes/Cube Information/\"+File_Descriptor+\"_Pointing_Information\", 'wb') as file:\n",
    "    pickle.dump(Pointing_Information, file)\n",
    "\n",
    "print(Cube_Information)"
   ]
  }
 ],
 "metadata": {
  "kernelspec": {
   "display_name": "Python 3",
   "language": "python",
   "name": "python3"
  },
  "language_info": {
   "codemirror_mode": {
    "name": "ipython",
    "version": 3
   },
   "file_extension": ".py",
   "mimetype": "text/x-python",
   "name": "python",
   "nbconvert_exporter": "python",
   "pygments_lexer": "ipython3",
   "version": "3.8.5"
  }
 },
 "nbformat": 4,
 "nbformat_minor": 5
}
