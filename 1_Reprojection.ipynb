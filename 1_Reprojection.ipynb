{
 "cells": [
  {
   "cell_type": "markdown",
   "id": "8076c914-0ec4-4835-ac90-76a2720d5a7c",
   "metadata": {},
   "source": [
    "# How to use\n",
    "\n",
    "The structure works like this:\n",
    "\n",
    "First, reproject the cubes so that each cube's pixel information corresponds to the same spatial position across the cube. We do this with a CPU-intensive process called reprojection, where the data gets projected/rotated onto a grid of pixels that \n",
    "\n"
   ]
  },
  {
   "cell_type": "code",
   "execution_count": null,
   "id": "5412ecf9-3579-4630-b392-5ca819cbb231",
   "metadata": {},
   "outputs": [],
   "source": [
    "### Contains all the packages and custom functions used, such as data reduction/reprojection/analysis functions\n",
    "\n",
    "%run ./\"0 Imports and functions.ipynb\""
   ]
  },
  {
   "cell_type": "code",
   "execution_count": null,
   "id": "053a6d56-88a9-4816-8238-c960ad205139",
   "metadata": {},
   "outputs": [],
   "source": [
    "### For the CMZ CO 3-2 observations only, I must fix the headers for each cube since they are outdated\n",
    "\n",
    "%run ./\"0a_CMZ_Header_Fix_CO_3-2.ipynb\"\n",
    "\n",
    "### Also for the CO 3-2 observations, I must splice together the observations \n",
    "### so I can get the correct region. The original observations are spread out a bit.\n",
    "\n",
    "%run ./\"0b_CMZ_Splicing_CO_3-2.ipynb\"\n"
   ]
  },
  {
   "cell_type": "code",
   "execution_count": null,
   "id": "befd0263-e53b-4810-9180-030c07fff20c",
   "metadata": {},
   "outputs": [],
   "source": [
    "###  Write Important information here\n",
    "\n",
    "\n",
    "###  NGC253\n",
    "\n",
    "###  Target properties (the only things that differ between the files):\n",
    "###  3.5 Mpc away\n",
    "###  Center: \n",
    "###  Observations range from the region of \n",
    "\n",
    "###  Observations used: \n",
    "###  Alma band7\n",
    "\n",
    "\n",
    "###  The CMZ\n",
    "###  dist_cmz = 8.178*10**-3*u.Mpc (the distance to the galatic center in Mpc)\n",
    "###\n",
    "###\n",
    "\n",
    "\n",
    "###  Constants:\n",
    "###\n",
    "###  Num_per_kg= 6.0221409*10**23/(2.8*10**-3) (the amount of H2 atoms in 1kg of H2, used for mass-> column density calculation). possibly, this number is incorrect (should be 2.016 g/mol) but this is what Krieger used so...\n",
    "###  N_avogadro = 6.0221409*10**23 \n",
    "\n",
    "\n",
    "###  Line Information\n",
    "###\n",
    "###  This should be built into the cubes, but, if not, you'll have to find it elsewhere\n",
    "###  I use https://splatalogue.online as a reference\n",
    "###  \n",
    "###  CO J3-2:  restfreq = 345.79598990 * u.GHz, \n",
    "\n"
   ]
  },
  {
   "cell_type": "code",
   "execution_count": null,
   "id": "e8d41b7b-ad19-4e39-a99d-29d8cb2ad9f5",
   "metadata": {},
   "outputs": [],
   "source": [
    "\n",
    "\n",
    "#These files are identical, save for the data cube that they examine \n",
    "#(and, therefore, I also change the pointing information, as listed above).\n",
    "\n",
    "#NCG253, low energy lines:\n",
    "\n",
    "%run ./\"1a_ngc253 HCN_1-0_Reprojection.ipynb\"\n",
    "\n",
    "%run ./\"1b_ngc253 HCO+_1-0_Reprojection.ipynb\"\n",
    "\n",
    "%run ./\"1c_ngc253 CO_1-0_Reprojection.ipynb\"\n",
    "\n",
    "#NCG253, high energy lines:\n",
    "\n",
    "%run ./\"1e_ngc253 HCN_4-3_Reprojection.ipynb\"\n",
    "\n",
    "%run ./\"1f_ngc253 HCO+_4-3_Reprojection.ipynb\"\n",
    "\n",
    "%run ./\"1g_ngc253 CO_3-2_Reprojection.ipynb\"\n",
    "\n",
    "#The CMZ, low energy lines:\n",
    "\n",
    "%run ./\"1h_cmz HCN_1-0_Reprojection.ipynb\"\n",
    "\n",
    "%run ./\"1i_cmz HCO+_1-0_Reprojection.ipynb\"\n",
    "\n",
    "%run ./\"1j_cmz CO_1-0_Reprojection.ipynb\"\n",
    "\n",
    "#The CMZ, high energy lines:\n",
    "\n",
    "%run ./\"1k_cmz HCN_4-3_Reprojection.ipynb\"\n",
    "\n",
    "%run ./\"1l_cmz HCO+_4-3_Reprojection.ipynb\"\n",
    "\n",
    "%run ./\"1m_cmz CO_3-2_Reprojection.ipynb\"\n",
    "\n"
   ]
  }
 ],
 "metadata": {
  "kernelspec": {
   "display_name": "Python 3 (ipykernel)",
   "language": "python",
   "name": "python3"
  },
  "language_info": {
   "codemirror_mode": {
    "name": "ipython",
    "version": 3
   },
   "file_extension": ".py",
   "mimetype": "text/x-python",
   "name": "python",
   "nbconvert_exporter": "python",
   "pygments_lexer": "ipython3",
   "version": "3.8.5"
  }
 },
 "nbformat": 4,
 "nbformat_minor": 5
}
