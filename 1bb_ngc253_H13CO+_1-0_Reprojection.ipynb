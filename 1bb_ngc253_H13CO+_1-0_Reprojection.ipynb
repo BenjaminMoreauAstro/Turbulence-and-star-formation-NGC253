{
 "cells": [
  {
   "cell_type": "code",
   "execution_count": 8,
   "id": "86cad976-c37e-46fe-9a27-7f79b90e8838",
   "metadata": {},
   "outputs": [
    {
     "name": "stdout",
     "output_type": "stream",
     "text": [
      "/home/ben/miniconda3/bin/python\n",
      "3.8.5 (default, Sep  4 2020, 07:30:14) \n",
      "[GCC 7.3.0]\n",
      "sys.version_info(major=3, minor=8, micro=5, releaselevel='final', serial=0)\n",
      "astropy 5.1.dev153+gb740594dc\n",
      "spectral_cube 0.6.1.dev22+g003ef16\n",
      "spectral_cube file path /home/ben/.local/lib/python3.8/site-packages/spectral_cube/__init__.py\n",
      "reproject 0.8\n",
      "3.3.4 Matplotlib\n",
      "/home/ben/miniconda3/lib/python3.8/site-packages/matplotlib/__init__.py\n",
      "1.23.1 Numpy\n",
      "astrodendro_file: /home/ben/.local/lib/python3.8/site-packages/astrodendro/__init__.py\n",
      "Results will be saved to Directory ./Result Files\n",
      "Cubes will be saved and loaded with Directory ./Spectral Cubes\n",
      "Plots will be saved to Directory ./Plots\n",
      "Dendrograms will be saved to Directory ./Dendrograms\n"
     ]
    }
   ],
   "source": [
    "%run ./\"0 Imports and functions.ipynb\""
   ]
  },
  {
   "cell_type": "code",
   "execution_count": 9,
   "id": "d04197c3-b09f-43eb-9f12-a910958150e2",
   "metadata": {},
   "outputs": [],
   "source": [
    "#extract the h13CO line from SiO\n",
    "#File =\"H13COp_J1-0_SiO_J2-1.cube.fits\"\n",
    "#File = \"member.uid___A001_X129e_Xb6.NGC_253_sci.spw25.cube.I.pbcor.fits\"\n",
    "File = \"H13CO_Plus_1_0.fits\"\n",
    "restfreq = 86.7542884 *10**9 *u.Hz\n",
    "scB = (SpectralCube.read(\"Spectral Cubes/\"+File) ).with_spectral_unit(u.km/u.s,velocity_convention=\"radio\",rest_value=restfreq).spectral_slab(- 120*u.km/u.s + 250*u.km/u.s, 120*u.km/u.s+ 250*u.km/u.s)  # Crop out velocities we don't care about   # Change units from Hz to km/s in case they are in Hz\n",
    "\n",
    "\n",
    "#scB.write(\"Spectral Cubes/H13COp_J1-0_SiO_J2-1.cube_Isolated.fits\",overwrite=True)\n",
    "scB.write(\"Spectral Cubes/H13CO_Plus_J_1_0_Isolated.fits\")\n"
   ]
  },
  {
   "cell_type": "code",
   "execution_count": 10,
   "id": "ecc931b2-7035-487a-ba73-c438d6823a8e",
   "metadata": {
    "tags": []
   },
   "outputs": [
    {
     "name": "stdout",
     "output_type": "stream",
     "text": [
      "done\n"
     ]
    },
    {
     "data": {
      "text/plain": [
       "<function gc.collect(generation=2)>"
      ]
     },
     "execution_count": 10,
     "metadata": {},
     "output_type": "execute_result"
    }
   ],
   "source": [
    "# Pointing_Information\n",
    "\n",
    "Pointing_Information = {}\n",
    "\n",
    "#This is the stuff that needs changing between cubes\n",
    "\n",
    "Pointing_Information[\"Original_File_Name\"] = \"H13CO_Plus_J_1_0_Isolated.fits\" #the name of the initial SC file.\n",
    "File_Descriptor=\"NGC_253_H13CO+_J1-0_\"\n",
    "Pointing_Information[\"File_Descriptor\"] = File_Descriptor\n",
    "Pointing_Information[\"target\"] = \"NGC253\"#or the cmz\n",
    "Pointing_Information[\"center\"] = SkyCoord('00h47m33.14s' ,'-25d17m17.52s',frame='icrs') #the center of NGC253\n",
    "Pointing_Information[\"crop_center\"] = SkyCoord('00h47m33.14s' ,'-25d17m17.52s',frame='icrs') #the center of NGC253, crop around this point\n",
    "\n",
    "desired_beam_size = 4.8*u.pc #I add this to the PI later. choose this based on the largest common beam size between the compared observations\n",
    "distance = 3.5*u.Mpc\n",
    "Pointing_Information[\"distance\"] = distance.to(u.Mpc) #in Mpc\n",
    "Pointing_Information[\"target_image_rotation\"]=33*u.deg #this is the rotation of the specific image, not the target. (use clockwise rotation angle)\n",
    "Pointing_Information[\"target_inclination\"]=78*u.deg\n",
    "Pointing_Information[\"target_velocity\"]=250*u.km/u.s #the speed NGC253 is moving away from us\n",
    "Pointing_Information[\"vaxis\"]=0 #which axis is the velocity\n",
    "Pointing_Information[\"desired_velocity_resolution\"] = 3.4*u.km/u.s\n",
    "ovs = 5 #how much do you desire to oversample the beam by\n",
    "desired_FOV = [70,360]*u.pc# pc normal to the disk, across the disk\n",
    "Pointing_Information[\"Corresponding_Continuum\"] = 'Continuum_Reproject.fits' # this is for the band 7, not for HCN J1-0 #The continuum image for this band\n",
    "#                                                 '4.3pc_beam_CMZ_850um_Cont_140x800pc.fits' # this is the JCMT continuum for 850microns (the CO 3-2 and HCN, HCO 4-3)\n",
    "\n",
    "\n",
    "print(\"done\")\n",
    "\n",
    "gc.collect"
   ]
  },
  {
   "cell_type": "code",
   "execution_count": 11,
   "id": "d084ce66-6ff3-4419-bd87-d6d914f39a3b",
   "metadata": {
    "tags": []
   },
   "outputs": [
    {
     "name": "stdout",
     "output_type": "stream",
     "text": [
      "\n"
     ]
    }
   ],
   "source": [
    "\n",
    "#This stuff will input automagically if the rest is correct\n",
    "\n",
    "sc = SpectralCube.read(\"Spectral Cubes/\"+Pointing_Information[\"Original_File_Name\"])\n",
    "header = sc.header\n",
    "print()\n",
    "try:\n",
    "    freq = header[\"RESTFREQ\"]*u.Hz# assuming the header is in Hz\n",
    "    Pointing_Information['wavelength']=299792458*u.m/header[\"RESTFREQ\"]#\n",
    "    Pointing_Information['restfreq']=freq         \n",
    "except:\n",
    "    freq = header[\"RESTFRQ\"]*u.Hz#\n",
    "    Pointing_Information['wavelength']=299792458*u.m/header[\"RESTFRQ\"]#            \n",
    "    Pointing_Information['restfreq']=freq \n",
    "\n",
    "######calculate teh beam size of the original image:\n",
    "\n",
    "if (header['CUNIT1'].find(\"deg\")!=-1):\n",
    "    CUNIT = 1*u.degree\n",
    "    Pointing_Information[\"CUNIT\"]=CUNIT\n",
    "else:\n",
    "    print(\"The header should show CUNIT in degrees. If not, just fix this or write CUNIT = the unit it says in the header\")\n",
    "    del jhgasdhgjkahsdkgdfjhsgjgjsdhkfjghjd #this causes an error and stops execution \n",
    "    \n",
    "beam_major =  (header[\"BMAJ\"]*CUNIT).to(u.arcsec) #degrees beam size -> arcsec\n",
    "beam_minor =  (header[\"BMIN\"]*CUNIT).to(u.arcsec)\n",
    "\n",
    "\n",
    "Pointing_Information[\"original_BMAJ\"]=beam_major\n",
    "Pointing_Information[\"original_BMIN\"]=beam_minor\n",
    "Pointing_Information[\"original_BMAJ_pc\"]=beam_major.to(u.rad)*Pointing_Information['distance']\n",
    "Pointing_Information[\"original_BMIN_pc\"]=beam_minor.to(u.rad)*Pointing_Information['distance']\n",
    "Pointing_Information[\"desired_beam_size\"] = desired_beam_size #ill put it in a circular beam at this size\n",
    "\n",
    "\n",
    "#this accounts for elliptical beams:            \n",
    "Pointing_Information['original_pixel_scale_x'] = (abs(header[\"CDELT1\"])*CUNIT.to(u.arcsec))/u.pix\n",
    "Pointing_Information['original_pixel_scale_y'] = (abs(header[\"CDELT2\"])*CUNIT.to(u.arcsec))/u.pix\n",
    "Pointing_Information['original_spatial_scale_x'] = (abs(header[\"CDELT1\"])*CUNIT.to(u.rad))/u.pix*Pointing_Information['distance']\n",
    "Pointing_Information['original_spatial_scale_y'] = (abs(header[\"CDELT2\"])*CUNIT.to(u.rad))/u.pix*Pointing_Information['distance']#convert to pc using the distance\n",
    "\n",
    "average_pixel=np.sqrt((abs(header[\"CDELT1\"])*CUNIT.to(u.arcsec))/u.pix*(abs(header[\"CDELT2\"])*CUNIT.to(u.arcsec))/u.pix)\n",
    "\n",
    "Pointing_Information['original_beam_oversampling_MAJ'] = beam_major/average_pixel\n",
    "Pointing_Information['original_beam_oversampling_MIN'] = beam_minor/average_pixel\n",
    "Pointing_Information['desired_beam_oversampling'] = ovs\n",
    "#Pointing_Information['orig_FOV']= Crop_Around_Center(sc,Pointing_Information['target_image_rotation'],Pointing_Information['center'],desired_FOV,Pointing_Information['distance'])[1] #returns the current fov\n",
    "Pointing_Information['desired_FOV']=desired_FOV\n",
    "\n",
    "######\n",
    "\n",
    "Cube_Information = Update_Cube_Information(Pointing_Information,Pointing_Information[\"Original_File_Name\"])\n"
   ]
  },
  {
   "cell_type": "markdown",
   "id": "2974f75b-0f52-4151-8fea-49b866e86f60",
   "metadata": {},
   "source": [
    "# 1. Reprojection"
   ]
  },
  {
   "cell_type": "code",
   "execution_count": 12,
   "id": "c7e42666-0842-4541-ab38-03497c3bf43b",
   "metadata": {
    "tags": []
   },
   "outputs": [
    {
     "name": "stdout",
     "output_type": "stream",
     "text": [
      "begin step: 0 of 3\n",
      "starting cube rotation\n",
      "finished cube rotation\n",
      "start beam convolution\n",
      "0.0 1.494114997421817\n",
      "2.8440490809084506e-09 3.037156523715571e-11\n",
      "convolve end\n",
      "\n",
      "fov crop start \n",
      "\n",
      "Center: <SkyCoord (ICRS): (ra, dec) in deg\n",
      "    (11.88808333, -25.2882)> Pixel center: 471 453 Pixel FOV: [66, 342]\n",
      "cropping cube. rotation: 0.0 deg center: <SkyCoord (ICRS): (ra, dec) in deg\n",
      "    (11.88808333, -25.2882)> crop to: [ 70. 360.] pc\n",
      "Cropped to  [ 70. 360.] pc\n",
      "check max SC value after crop: 0.0036201674795637464 SC shape: (30, 130, 682)\n",
      "fov cropped\n",
      "\n",
      "start reprojection\n",
      "\n",
      "check max SC value: 0.0036201674795637464 SC shape: (30, 130, 682)\n",
      "\n",
      "end reprojection\n",
      "\n",
      "check max SC value: 0.0035719313341757053 SC shape: (30, 624, 1036)\n",
      "fov crop start 2 \n",
      "\n",
      "Center: <SkyCoord (ICRS): (ra, dec) in deg\n",
      "    (11.88808333, -25.2882)> Pixel center: 482 537 Pixel FOV: [36, 187]\n",
      "cropping cube. rotation: 0.0 deg center: <SkyCoord (ICRS): (ra, dec) in deg\n",
      "    (11.88808333, -25.2882)> crop to: [ 70. 360.] pc\n",
      "Cropped to  [ 70. 360.] pc\n",
      "fov cropped 2\n",
      "\n",
      "begin step: 1 of 3\n",
      "starting cube rotation\n",
      "finished cube rotation\n",
      "start beam convolution\n",
      "0.0 1.494114997421817\n",
      "2.8440490809084506e-09 3.037156523715571e-11\n",
      "convolve end\n",
      "\n",
      "fov crop start \n",
      "\n",
      "Center: <SkyCoord (ICRS): (ra, dec) in deg\n",
      "    (11.88808333, -25.2882)> Pixel center: 471 453 Pixel FOV: [66, 342]\n",
      "cropping cube. rotation: 0.0 deg center: <SkyCoord (ICRS): (ra, dec) in deg\n",
      "    (11.88808333, -25.2882)> crop to: [ 70. 360.] pc\n",
      "Cropped to  [ 70. 360.] pc\n",
      "check max SC value after crop: 0.0027112321821060625 SC shape: (30, 130, 682)\n",
      "fov cropped\n",
      "\n",
      "start reprojection\n",
      "\n",
      "check max SC value: 0.0027112321821060625 SC shape: (30, 130, 682)\n",
      "\n",
      "end reprojection\n",
      "\n",
      "check max SC value: 0.002689081365748802 SC shape: (30, 624, 1036)\n",
      "fov crop start 2 \n",
      "\n",
      "Center: <SkyCoord (ICRS): (ra, dec) in deg\n",
      "    (11.88808333, -25.2882)> Pixel center: 482 537 Pixel FOV: [36, 187]\n",
      "cropping cube. rotation: 0.0 deg center: <SkyCoord (ICRS): (ra, dec) in deg\n",
      "    (11.88808333, -25.2882)> crop to: [ 70. 360.] pc\n",
      "Cropped to  [ 70. 360.] pc\n",
      "fov cropped 2\n",
      "\n",
      "begin step: 2 of 3\n",
      "starting cube rotation\n",
      "finished cube rotation\n",
      "start beam convolution\n",
      "0.0 1.494114997421817\n",
      "2.8440490809084506e-09 3.037156523715571e-11\n",
      "convolve end\n",
      "\n",
      "fov crop start \n",
      "\n",
      "Center: <SkyCoord (ICRS): (ra, dec) in deg\n",
      "    (11.88808333, -25.2882)> Pixel center: 471 453 Pixel FOV: [66, 342]\n",
      "cropping cube. rotation: 0.0 deg center: <SkyCoord (ICRS): (ra, dec) in deg\n",
      "    (11.88808333, -25.2882)> crop to: [ 70. 360.] pc\n",
      "Cropped to  [ 70. 360.] pc\n",
      "check max SC value after crop: 0.0006903367913489801 SC shape: (12, 130, 682)\n",
      "fov cropped\n",
      "\n",
      "start reprojection\n",
      "\n",
      "check max SC value: 0.0006903367913489801 SC shape: (12, 130, 682)\n",
      "\n",
      "end reprojection\n",
      "\n",
      "check max SC value: 0.0006720552666203928 SC shape: (12, 624, 1036)\n",
      "fov crop start 2 \n",
      "\n",
      "Center: <SkyCoord (ICRS): (ra, dec) in deg\n",
      "    (11.88808333, -25.2882)> Pixel center: 482 537 Pixel FOV: [36, 187]\n",
      "cropping cube. rotation: 0.0 deg center: <SkyCoord (ICRS): (ra, dec) in deg\n",
      "    (11.88808333, -25.2882)> crop to: [ 70. 360.] pc\n",
      "Cropped to  [ 70. 360.] pc\n",
      "fov cropped 2\n",
      "\n",
      "done\n"
     ]
    }
   ],
   "source": [
    "gc.collect()\n",
    "\n",
    "#\n",
    "# def Reproject_To_Region(Pointing_Information,Cube_Information,i_step=30,Cube_Name_Save='',Force_Origin=[False,[0,0]*u.deg,[0,0]*u.deg]):\n",
    "\n",
    "Reproject_To_Region(Pointing_Information,Cube_Information,i_step=30,Cube_Name_Save='',Force_Origin=[False,[0,0]*u.deg,[0,0]*u.deg])\n",
    "    \n",
    "# This is the cube name that they are being saved to unless you changed it inside the reproject functions definiton\n",
    "\n",
    "Cube_Name_Save = str(Pointing_Information[\"desired_beam_size\"].value)+\"pc_beam_\"+Pointing_Information[\"File_Descriptor\"]+str(Pointing_Information[\"desired_FOV\"][0].value)+\"x\"+str(Pointing_Information[\"desired_FOV\"][1].value)+'pc_'+'reprojected.fits'\n",
    "\n",
    "gc.collect()\n",
    "\n",
    "print(\"done\")\n"
   ]
  },
  {
   "cell_type": "markdown",
   "id": "42552c87-05bc-49d4-80ac-2b57f694a48e",
   "metadata": {},
   "source": [
    "# 1a. Splice the reprojected cubes back together"
   ]
  },
  {
   "cell_type": "code",
   "execution_count": 13,
   "id": "8871ed29-ffaa-4905-96d3-f4b7cdf881fe",
   "metadata": {
    "tags": []
   },
   "outputs": [
    {
     "name": "stdout",
     "output_type": "stream",
     "text": [
      "Loaded 0_4.8pc_beam_NGC_253_H13CO+_J1-0_70.0x360.0pc_reprojected.fits\n",
      "Loaded 1_4.8pc_beam_NGC_253_H13CO+_J1-0_70.0x360.0pc_reprojected.fits\n",
      "Loaded 2_4.8pc_beam_NGC_253_H13CO+_J1-0_70.0x360.0pc_reprojected.fits\n",
      "[Errno 2] No such file or directory: 'Spectral Cubes/3_4.8pc_beam_NGC_253_H13CO+_J1-0_70.0x360.0pc_reprojected.fits'\n",
      "------------------------------------------------------------\n",
      "Traceback (most recent call last):\n",
      "  File \"/tmp/ipykernel_473733/1580511263.py\", line 11, in Splice_vels\n",
      "    sc=SpectralCube.read((\"Spectral Cubes/\"+Cube_Name_Load_p))\n",
      "  File \"/home/ben/.local/lib/python3.8/site-packages/spectral_cube/io/core.py\", line 118, in __call__\n",
      "    return registry.read(BaseSpectralCube, filename, *args, **kwargs)\n",
      "  File \"/home/ben/.local/lib/python3.8/site-packages/astropy/io/registry/compat.py\", line 43, in wrapper\n",
      "    return getattr(registry, method_name)(*args, **kwargs)\n",
      "  File \"/home/ben/.local/lib/python3.8/site-packages/astropy/io/registry/core.py\", line 184, in read\n",
      "    fileobj = ctx.__enter__()\n",
      "  File \"/home/ben/miniconda3/lib/python3.8/contextlib.py\", line 113, in __enter__\n",
      "    return next(self.gen)\n",
      "  File \"/home/ben/.local/lib/python3.8/site-packages/astropy/utils/data.py\", line 271, in get_readable_fileobj\n",
      "    fileobj = io.FileIO(name_or_obj, 'r')\n",
      "FileNotFoundError: [Errno 2] No such file or directory: 'Spectral Cubes/3_4.8pc_beam_NGC_253_H13CO+_J1-0_70.0x360.0pc_reprojected.fits'\n",
      "done\n"
     ]
    }
   ],
   "source": [
    "# First, splice the partwise cubes back together\n",
    "\n",
    "Cube_Name_Save = str(Pointing_Information[\"desired_beam_size\"].value)+\"pc_beam_\"+Pointing_Information[\"File_Descriptor\"]+str(Pointing_Information[\"desired_FOV\"][0].value)+\"x\"+str(Pointing_Information[\"desired_FOV\"][1].value)+'pc_'+'reprojected.fits'\n",
    "\n",
    "Splice_vels(Cube_Name_Load=Cube_Name_Save)\n",
    "\n",
    "Cube_Information = Update_Cube_Information(Pointing_Information,Cube_Name_Save)\n",
    "\n",
    "gc.collect()\n",
    "\n",
    "print(\"done\")"
   ]
  },
  {
   "cell_type": "markdown",
   "id": "2ad83455-839d-4964-8bbf-95956dddf9dd",
   "metadata": {},
   "source": [
    "# 1b. Velocity reprojection"
   ]
  },
  {
   "cell_type": "code",
   "execution_count": 14,
   "id": "6d0f831b-1756-43d1-987c-fa7729d981e8",
   "metadata": {
    "tags": []
   },
   "outputs": [
    {
     "name": "stdout",
     "output_type": "stream",
     "text": [
      "Start velocity reprojection of 4.8pc_beam_NGC_253_H13CO+_J1-0_70.0x360.0pc_reprojected.fits\n",
      "Smoothed to Gaussian Kernel of width 0.17473778472245002\n",
      "Wrote reprojected cube to Spectral Cubes/4.8pc_beam_NGC_253_H13CO+_J1-0_70.0x360.0pc_reprojected_3.4_vel_res_.fits\n"
     ]
    },
    {
     "data": {
      "text/plain": [
       "0"
      ]
     },
     "execution_count": 14,
     "metadata": {},
     "output_type": "execute_result"
    }
   ],
   "source": [
    "Cube_Name_Save = str(Pointing_Information[\"desired_beam_size\"].value)+\"pc_beam_\"+Pointing_Information[\"File_Descriptor\"]+str(Pointing_Information[\"desired_FOV\"][0].value)+\"x\"+str(Pointing_Information[\"desired_FOV\"][1].value)+'pc_'+'reprojected.fits'\n",
    "\n",
    "Cube_Information = Update_Cube_Information(Pointing_Information,Cube_Name_Save)\n",
    "\n",
    "# Load the spliced cube\n",
    "\n",
    "sc = SpectralCube.read((\"Spectral Cubes/\"+Cube_Name_Save)) \n",
    "\n",
    "# Reproject the spliced Cube's veloctiy axis\n",
    "\n",
    "Repo_Velocity(sc,Cube_Name_Save,Cube_Information)\n",
    "\n",
    "# Here is the new cube's name\n",
    "\n",
    "Cube_Name_Save = Cube_Name_Save[0:len(Cube_Name_Save)-5]+\"_\"+str(Pointing_Information[\"desired_velocity_resolution\"].value)+'_vel_res_'+'.fits'\n",
    "\n",
    "del sc\n",
    "\n",
    "gc.collect()"
   ]
  },
  {
   "cell_type": "markdown",
   "id": "3cb34a6b-8fec-4fee-be76-6ff4c9816fd2",
   "metadata": {},
   "source": [
    "# 1c. Fix repeated pixels"
   ]
  },
  {
   "cell_type": "code",
   "execution_count": 15,
   "id": "717f2a58-3d55-4e60-a152-f8e294cb0045",
   "metadata": {
    "tags": []
   },
   "outputs": [
    {
     "name": "stdout",
     "output_type": "stream",
     "text": [
      "Good data starting from channel 38 ; start has been cropped to that channel\n",
      "Good data ending at channel 109 ; end has been cropped to that channel\n",
      "Cropped cube saved as  Spectral Cubes/Cropped_4.8pc_beam_NGC_253_H13CO+_J1-0_70.0x360.0pc_reprojected_3.4_vel_res_.fits\n"
     ]
    }
   ],
   "source": [
    "# after the reprojection, there may be duplicated data from the fact that it just fills in stuff \n",
    "# expecting new data to be there. This fixes it by checking to see if it matches other data, then removes\n",
    "# the repeated slices. in other words, it may be set to reproject to 0-500 km/s through the velocity channels\n",
    "# but there may only be data between 100-400, so it will fill it in with copied data channels. This will check for those.\n",
    "\n",
    "\n",
    "\n",
    "# Update to the current cube name\n",
    "\n",
    "Cube_Name_Save = str(Pointing_Information[\"desired_beam_size\"].value)+\"pc_beam_\"+Pointing_Information[\"File_Descriptor\"]+str(Pointing_Information[\"desired_FOV\"][0].value)+\"x\"+str(Pointing_Information[\"desired_FOV\"][1].value)+'pc_'+'reprojected.fits'\n",
    "Cube_Name_Save = Cube_Name_Save[0:len(Cube_Name_Save)-5]+\"_\"+str(Pointing_Information[\"desired_velocity_resolution\"].value)+'_vel_res_'+'.fits'\n",
    "\n",
    "Cube_Information = Update_Cube_Information(Pointing_Information,Cube_Name_Save)\n",
    "\n",
    "# Run the function to crop the nan values out of the cube\n",
    "\n",
    "Remove_Repeated_Pixels(Cube_Name_Save)"
   ]
  },
  {
   "cell_type": "markdown",
   "id": "77c9e424-23c1-4a3d-8069-a7871e72b938",
   "metadata": {},
   "source": [
    "# x. save cube information"
   ]
  },
  {
   "cell_type": "code",
   "execution_count": 16,
   "id": "2310263d-4e01-4bdf-aa11-d04fe7b81ffa",
   "metadata": {},
   "outputs": [
    {
     "name": "stdout",
     "output_type": "stream",
     "text": [
      "{'Original_File_Name': 'H13CO_Plus_J_1_0_Isolated.fits', 'File_Descriptor': 'NGC_253_H13CO+_J1-0_', 'target': 'NGC253', 'center': <SkyCoord (ICRS): (ra, dec) in deg\n",
      "    (11.88808333, -25.2882)>, 'crop_center': <SkyCoord (ICRS): (ra, dec) in deg\n",
      "    (11.88808333, -25.2882)>, 'distance': <Quantity 3.5 Mpc>, 'target_image_rotation': <Quantity 0. deg>, 'target_inclination': <Quantity 78. deg>, 'target_velocity': <Quantity 250. km / s>, 'vaxis': 0, 'desired_velocity_resolution': <Quantity 3.4 km / s>, 'Corresponding_Continuum': 'Continuum_Reproject.fits', 'wavelength': <Quantity 0.00345565 m>, 'restfreq': <Quantity 8.67542884e+10 Hz>, 'CUNIT': <Quantity 1. deg>, 'original_BMAJ': <Quantity 0.28256428 arcsec>, 'original_BMIN': <Quantity 0.20722991 arcsec>, 'original_BMAJ_pc': <Quantity 4.79468605e-06 Mpc rad>, 'original_BMIN_pc': <Quantity 3.51637638e-06 Mpc rad>, 'desired_beam_size': <Quantity 4.8 pc>, 'original_pixel_scale_x': <Quantity 0.031 arcsec / pix>, 'original_pixel_scale_y': <Quantity 0.031 arcsec / pix>, 'original_spatial_scale_x': <Quantity 5.26022844e-07 Mpc rad / pix>, 'original_spatial_scale_y': <Quantity 5.26022844e-07 Mpc rad / pix>, 'original_beam_oversampling_MAJ': <Quantity 9.11497685 pix>, 'original_beam_oversampling_MIN': <Quantity 6.68483588 pix>, 'desired_beam_oversampling': 5, 'desired_FOV': <Quantity [ 70., 360.] pc>, 'File_Name': 'Cropped_4.8pc_beam_NGC_253_H13CO+_J1-0_70.0x360.0pc_reprojected_3.4_vel_res_.fits', 'data_unit': Unit(\"K\"), 'arc_per_pix_y': <Quantity 0.05657549 arcsec / pix>, 'arc_per_pix_x': <Quantity 0.05657549 arcsec / pix>, 'Beam_Position_angle': <Quantity 0. deg>, 'beam_major': <Quantity 0.28287745 arcsec>, 'beam_minor': <Quantity 0.28287745 arcsec>, 'beam_area_ratio': <Quantity 28.32725 pix2 / beam>, 'spatial_scale_x': <Quantity 9.6e-07 Mpc / pix>, 'spatial_scale_y': <Quantity 9.6e-07 Mpc / pix>, 'spatial_scale': <Quantity 0.05657549 arcsec>, 'velocity_scale': <Quantity 3.40002268 km / s>, 'beam_oversampling': <Quantity 5. pix>, 'wcsu': WCS Keywords\n",
      "\n",
      "Number of WCS axes: 3\n",
      "CTYPE : 'RA---SIN'  'DEC--SIN'  'VRAD-F2F'  \n",
      "CRVAL : 11.892506182146  -25.291945774956  -1000.0033355971001  \n",
      "CRPIX : 104.0  -302.0  -37.0  \n",
      "PC1_1 PC1_2 PC1_3  : 0.83867056794542  0.54463903501503  0.0  \n",
      "PC2_1 PC2_2 PC2_3  : -0.54463903501503  0.83867056794542  0.0  \n",
      "PC3_1 PC3_2 PC3_3  : 0.0  0.0  1.0  \n",
      "CDELT : -1.5715413809302e-05  1.5715413809302e-05  3400.0226824720003  \n",
      "NAXIS : 372  70  71}\n"
     ]
    }
   ],
   "source": [
    "# Now that all the data reduction is concluded, save information about the new cubes\n",
    "\n",
    "Cube_Name_Save = str(Pointing_Information[\"desired_beam_size\"].value)+\"pc_beam_\"+Pointing_Information[\"File_Descriptor\"]+str(Pointing_Information[\"desired_FOV\"][0].value)+\"x\"+str(Pointing_Information[\"desired_FOV\"][1].value)+'pc_'+'reprojected.fits'\n",
    "Cube_Name_Save = \"Cropped_\"+Cube_Name_Save[0:len(Cube_Name_Save)-5]+\"_\"+str(Pointing_Information[\"desired_velocity_resolution\"].value)+'_vel_res_'+'.fits'\n",
    "\n",
    "Cube_Information = Update_Cube_Information(Pointing_Information,Cube_Name_Save)\n",
    "\n",
    "import pickle \n",
    "\n",
    "with open(\"Spectral Cubes/Cube Information/\"+File_Descriptor+\"_Cube_Information\", 'wb') as file:\n",
    "    pickle.dump(Cube_Information, file)\n",
    "\n",
    "with open(\"Spectral Cubes/Cube Information/\"+File_Descriptor+\"_Pointing_Information\", 'wb') as file:\n",
    "    pickle.dump(Pointing_Information, file)\n",
    "\n",
    "print(Cube_Information)"
   ]
  },
  {
   "cell_type": "code",
   "execution_count": null,
   "id": "b0655e45-c310-4e67-a7d1-b4a3196f4de5",
   "metadata": {},
   "outputs": [],
   "source": []
  },
  {
   "cell_type": "markdown",
   "id": "1a77dd43-49de-48d3-b946-8c3591ab6ee5",
   "metadata": {},
   "source": [
    "# xb. Noise matching "
   ]
  },
  {
   "cell_type": "markdown",
   "id": "588bccbe-38ab-4802-abee-fce67ecf90e5",
   "metadata": {
    "tags": []
   },
   "source": [
    "\n",
    "if Pointing_Information[\"noise_matched\"]:\n",
    "    print(\"The cube already has spatially uniform noise\")\n",
    "    pass\n",
    "else\n",
    "    # Return an input cube matched to the given nosie\n",
    "\n",
    "    Cube_Name_Save = str(Pointing_Information[\"desired_beam_size\"].value)+\"pc_beam_\"+Pointing_Information[\"File_Descriptor\"]+str(Pointing_Information[\"desired_FOV\"][0].value)+\"x\"+str(Pointing_Information[\"desired_FOV\"][1].value)+'pc_'+'reprojected.fits'\n",
    "    Cube_Name_Save = \"Cropped_\"+Cube_Name_Save[0:len(Cube_Name_Save)-5]+\"_\"+str(Pointing_Information[\"desired_velocity_resolution\"].value)+'_vel_res_'+'.fits'\n",
    "\n",
    "    Q  = SpectralCube.read(\"Spectral Cubes/\"+Cube_Name_Save)\n",
    "\n",
    "    NM_Cube = Noise_matching(Input_Cube=Q,m=(.115*u.K))\n",
    "\n",
    "\n",
    "    Cube_Name_Save = \"NM_\"+Cube_Name_Save\n",
    "\n",
    "    NM_Cube.write(\"Spectral Cubes/\"+Cube_Name_Save)\n",
    "\n",
    "    Cube_Information = Update_Cube_Information(Pointing_Information,Cube_Name_Save)\n",
    "\n",
    "    import pickle \n",
    "\n",
    "    with open(\"Spectral Cubes/Cube Information/\"+File_Descriptor+\"_Cube_Information\", 'wb') as file:\n",
    "        pickle.dump(Cube_Information, file)\n",
    "\n",
    "    with open(\"Spectral Cubes/Cube Information/\"+File_Descriptor+\"_Pointing_Information\", 'wb') as file:\n",
    "        pickle.dump(Pointing_Information, file)\n",
    "\n",
    "    print(Cube_Information)\n"
   ]
  },
  {
   "cell_type": "markdown",
   "id": "a0b352bb-a6be-45dc-b8f3-17c3fcefd723",
   "metadata": {
    "jupyter": {
     "outputs_hidden": true
    },
    "tags": []
   },
   "source": [
    "Cube_Information = Update_Cube_Information(Pointing_Information,Cube_Name_Save)\n",
    "\n",
    "import pickle \n",
    "\n",
    "with open(\"Spectral Cubes/Cube Information/\"+File_Descriptor+\"_Cube_Information\", 'wb') as file:\n",
    "    pickle.dump(Cube_Information, file)\n",
    "\n",
    "with open(\"Spectral Cubes/Cube Information/\"+File_Descriptor+\"_Pointing_Information\", 'wb') as file:\n",
    "    pickle.dump(Pointing_Information, file)\n",
    "\n",
    "print(Cube_Information)"
   ]
  }
 ],
 "metadata": {
  "kernelspec": {
   "display_name": "Python 3",
   "language": "python",
   "name": "python3"
  },
  "language_info": {
   "codemirror_mode": {
    "name": "ipython",
    "version": 3
   },
   "file_extension": ".py",
   "mimetype": "text/x-python",
   "name": "python",
   "nbconvert_exporter": "python",
   "pygments_lexer": "ipython3",
   "version": "3.8.5"
  }
 },
 "nbformat": 4,
 "nbformat_minor": 5
}
