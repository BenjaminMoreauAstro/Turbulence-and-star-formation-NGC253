{
 "cells": [
  {
   "cell_type": "code",
   "execution_count": 2,
   "id": "dabb6c84-c419-43a0-86dc-ae9ae86a4be5",
   "metadata": {
    "collapsed": true,
    "jupyter": {
     "outputs_hidden": true
    },
    "tags": []
   },
   "outputs": [
    {
     "name": "stdout",
     "output_type": "stream",
     "text": [
      "Step 1/1500\n",
      "Step 2/1500\n",
      "Step 3/1500\n",
      "Step 4/1500\n",
      "Step 5/1500\n",
      "Step 6/1500\n",
      "Step 7/1500\n",
      "Step 8/1500\n",
      "Step 9/1500\n",
      "Step 10/1500\n",
      "Step 11/1500\n",
      "Step 12/1500\n",
      "Step 13/1500\n",
      "Step 14/1500\n",
      "Step 15/1500\n",
      "Step 16/1500\n",
      "Step 17/1500\n",
      "Step 18/1500\n",
      "Step 19/1500\n",
      "Step 20/1500\n",
      "Step 21/1500\n",
      "Step 22/1500\n",
      "Step 23/1500\n",
      "Step 24/1500\n",
      "Step 25/1500\n",
      "Step 26/1500\n",
      "Step 27/1500\n",
      "Step 28/1500\n",
      "Step 29/1500\n",
      "Step 30/1500\n",
      "Step 31/1500\n",
      "Step 32/1500\n",
      "Step 33/1500\n",
      "Step 34/1500\n",
      "Step 35/1500\n",
      "Step 36/1500\n",
      "Step 37/1500\n",
      "Step 38/1500\n",
      "Step 39/1500\n",
      "Step 40/1500\n",
      "Step 41/1500\n",
      "Step 42/1500\n",
      "Step 43/1500\n",
      "Step 44/1500\n",
      "Step 45/1500\n",
      "Step 46/1500\n",
      "Step 47/1500\n",
      "Step 48/1500\n",
      "Step 49/1500\n",
      "Step 50/1500\n",
      "Step 51/1500\n",
      "Step 52/1500\n",
      "Step 53/1500\n",
      "Step 54/1500\n",
      "Step 55/1500\n",
      "Step 56/1500\n",
      "Step 57/1500\n",
      "Step 58/1500\n",
      "Step 59/1500\n",
      "Step 60/1500\n",
      "Step 61/1500\n",
      "Step 62/1500\n",
      "Step 63/1500\n",
      "Step 64/1500\n",
      "Step 65/1500\n",
      "Step 66/1500\n",
      "Step 67/1500\n",
      "Step 68/1500\n"
     ]
    },
    {
     "ename": "KeyboardInterrupt",
     "evalue": "",
     "output_type": "error",
     "traceback": [
      "\u001b[0;31m---------------------------------------------------------------------------\u001b[0m",
      "\u001b[0;31mKeyboardInterrupt\u001b[0m                         Traceback (most recent call last)",
      "\u001b[0;32m/tmp/ipykernel_549446/2034416854.py\u001b[0m in \u001b[0;36m<module>\u001b[0;34m\u001b[0m\n\u001b[1;32m     11\u001b[0m     \u001b[0;31m# Do something here if needed\u001b[0m\u001b[0;34m\u001b[0m\u001b[0;34m\u001b[0m\u001b[0;34m\u001b[0m\u001b[0m\n\u001b[1;32m     12\u001b[0m     \u001b[0mprint\u001b[0m\u001b[0;34m(\u001b[0m\u001b[0;34mf\"Step {i+1}/{iterations}\"\u001b[0m\u001b[0;34m)\u001b[0m\u001b[0;34m\u001b[0m\u001b[0;34m\u001b[0m\u001b[0m\n\u001b[0;32m---> 13\u001b[0;31m     \u001b[0mtime\u001b[0m\u001b[0;34m.\u001b[0m\u001b[0msleep\u001b[0m\u001b[0;34m(\u001b[0m\u001b[0mdelay\u001b[0m\u001b[0;34m)\u001b[0m\u001b[0;34m\u001b[0m\u001b[0;34m\u001b[0m\u001b[0m\n\u001b[0m\u001b[1;32m     14\u001b[0m \u001b[0;34m\u001b[0m\u001b[0m\n\u001b[1;32m     15\u001b[0m \u001b[0mprint\u001b[0m\u001b[0;34m(\u001b[0m\u001b[0;34m\"Done.\"\u001b[0m\u001b[0;34m)\u001b[0m\u001b[0;34m\u001b[0m\u001b[0;34m\u001b[0m\u001b[0m\n",
      "\u001b[0;31mKeyboardInterrupt\u001b[0m: "
     ]
    }
   ],
   "source": [
    "import time\n",
    "\n",
    "# Total duration in seconds\n",
    "total_duration = 1500  #\n",
    "# Number of iterations (you can change this)\n",
    "iterations = total_duration\n",
    "# Delay per iteration\n",
    "delay = total_duration / iterations\n",
    "\n",
    "for i in range(iterations):\n",
    "    # Do something here if needed\n",
    "    print(f\"Step {i+1}/{iterations}\")\n",
    "    time.sleep(delay)\n",
    "\n",
    "print(\"Done.\")"
   ]
  },
  {
   "cell_type": "code",
   "execution_count": 1,
   "id": "86cad976-c37e-46fe-9a27-7f79b90e8838",
   "metadata": {},
   "outputs": [
    {
     "name": "stdout",
     "output_type": "stream",
     "text": [
      "/home/ben/miniconda3/bin/python\n",
      "3.8.5 (default, Sep  4 2020, 07:30:14) \n",
      "[GCC 7.3.0]\n",
      "sys.version_info(major=3, minor=8, micro=5, releaselevel='final', serial=0)\n",
      "astropy 5.1.dev153+gb740594dc\n",
      "spectral_cube 0.6.1.dev22+g003ef16\n",
      "spectral_cube file path /home/ben/.local/lib/python3.8/site-packages/spectral_cube/__init__.py\n",
      "reproject 0.8\n",
      "3.3.4 Matplotlib\n",
      "/home/ben/miniconda3/lib/python3.8/site-packages/matplotlib/__init__.py\n",
      "1.23.1 Numpy\n",
      "astrodendro_file: /home/ben/.local/lib/python3.8/site-packages/astrodendro/__init__.py\n",
      "Results will be saved to Directory ./Result Files\n",
      "Cubes will be saved and loaded with Directory ./Spectral Cubes\n",
      "Plots will be saved to Directory ./Plots\n",
      "Dendrograms will be saved to Directory ./Dendrograms\n"
     ]
    }
   ],
   "source": [
    "%run ./\"0 Imports and functions.ipynb\""
   ]
  },
  {
   "cell_type": "code",
   "execution_count": 2,
   "id": "ecc931b2-7035-487a-ba73-c438d6823a8e",
   "metadata": {
    "tags": []
   },
   "outputs": [
    {
     "name": "stdout",
     "output_type": "stream",
     "text": [
      "done\n"
     ]
    },
    {
     "data": {
      "text/plain": [
       "<function gc.collect(generation=2)>"
      ]
     },
     "execution_count": 2,
     "metadata": {},
     "output_type": "execute_result"
    }
   ],
   "source": [
    "# Pointing_Information\n",
    "\n",
    "Pointing_Information = {}\n",
    "\n",
    "#This is the stuff that needs changing between cubes\n",
    "\n",
    "Pointing_Information[\"Original_File_Name\"] = \"NGC253.HCN_4-3.pbcor.fits\" #the name of the initial SC file.\n",
    "File_Descriptor=\"NGC_253_HCN_J4-3_\"\n",
    "\n",
    "Pointing_Information[\"File_Descriptor\"] = File_Descriptor\n",
    "Pointing_Information[\"target\"] = \"NGC253\"#or the cmz\n",
    "Pointing_Information[\"center\"] = SkyCoord('00h47m33.14s' ,'-25d17m17.52s',frame='icrs') #the center of NGC253\n",
    "\n",
    "#desired_beam_size = 4.3*u.pc #I add this to the PI later. choose this based on the largest common beam size between the compared observations\n",
    "desired_beam_size = 3*u.pc #I add this to the PI later. choose this based on the largest common beam size between the compared observations\n",
    "distance = 3.5*u.Mpc\n",
    "Pointing_Information[\"distance\"] = distance.to(u.Mpc) #in Mpc\n",
    "Pointing_Information[\"target_image_rotation\"]=33*u.deg #this is the rotation of the specific image, not the target. (use clockwise rotation angle)\n",
    "Pointing_Information[\"target_inclination\"]=78*u.deg\n",
    "Pointing_Information[\"target_velocity\"]=250*u.km/u.s #the speed NGC253 is moving away from us\n",
    "Pointing_Information[\"vaxis\"]=0 #which axis is the velocity\n",
    "#Pointing_Information[\"desired_velocity_resolution\"] = 3.4*u.km/u.s\n",
    "Pointing_Information[\"desired_velocity_resolution\"] = 2.5*u.km/u.s\n",
    "ovs = 5 #how much do you desire to oversample the beam by\n",
    "desired_FOV = [140,700]*u.pc# pc normal to the disk, across the disk\n",
    "#desired_FOV = [70,360]*u.pc# pc normal to the disk, across the disk\n",
    "Pointing_Information[\"Corresponding_Continuum\"] = 'Continuum_Reproject.fits' # this is for the band 7, not for HCN J1-0 \n",
    "#                                                 '4.3pc_beam_CMZ_850um_Cont_140x800pc.fits' # this is the JCMT continuum for 850microns (the CO 3-2 and HCN, HCO 4-3)\n",
    "                                                # I also have gc_850micron_dust.fits, which has a larger fov\n",
    "\n",
    "\n",
    "print(\"done\")\n",
    "\n",
    "gc.collect"
   ]
  },
  {
   "cell_type": "code",
   "execution_count": 3,
   "id": "d084ce66-6ff3-4419-bd87-d6d914f39a3b",
   "metadata": {
    "tags": []
   },
   "outputs": [
    {
     "name": "stdout",
     "output_type": "stream",
     "text": [
      "\n"
     ]
    }
   ],
   "source": [
    "\n",
    "#This stuff will input automagically if the rest is correct\n",
    "\n",
    "sc = SpectralCube.read(\"Spectral Cubes/\"+Pointing_Information[\"Original_File_Name\"])\n",
    "header = sc.header\n",
    "print()\n",
    "try:\n",
    "    freq = header[\"RESTFREQ\"]*u.Hz# assuming the header is in Hz\n",
    "    Pointing_Information['wavelength']=299792458*u.m/header[\"RESTFREQ\"]#\n",
    "    Pointing_Information['restfreq']=freq         \n",
    "except:\n",
    "    freq = header[\"RESTFRQ\"]*u.Hz#\n",
    "    Pointing_Information['wavelength']=299792458*u.m/header[\"RESTFRQ\"]#            \n",
    "    Pointing_Information['restfreq']=freq \n",
    "\n",
    "######calculate teh beam size of the original image:\n",
    "\n",
    "if (header['CUNIT1'].find(\"deg\")!=-1):\n",
    "    CUNIT = 1*u.degree\n",
    "    Pointing_Information[\"CUNIT\"]=CUNIT\n",
    "else:\n",
    "    print(\"The header should show CUNIT in degrees. If not, just fix this or write CUNIT = the unit it says in the header\")\n",
    "    del jhgasdhgjkahsdkgdfjhsgjgjsdhkfjghjd #this causes an error and stops execution \n",
    "    \n",
    "beam_major =  (header[\"BMAJ\"]*CUNIT).to(u.arcsec) #degrees beam size -> arcsec\n",
    "beam_minor =  (header[\"BMIN\"]*CUNIT).to(u.arcsec)\n",
    "\n",
    "\n",
    "Pointing_Information[\"original_BMAJ\"]=beam_major\n",
    "Pointing_Information[\"original_BMIN\"]=beam_minor\n",
    "Pointing_Information[\"original_BMAJ_pc\"]=beam_major.to(u.rad)*Pointing_Information['distance']\n",
    "Pointing_Information[\"original_BMIN_pc\"]=beam_minor.to(u.rad)*Pointing_Information['distance']\n",
    "Pointing_Information[\"desired_beam_size\"] = desired_beam_size #ill put it in a circular beam at this size\n",
    "\n",
    "\n",
    "#this accounts for elliptical beams:            \n",
    "Pointing_Information['original_pixel_scale_x'] = (abs(header[\"CDELT1\"])*CUNIT.to(u.arcsec))/u.pix\n",
    "Pointing_Information['original_pixel_scale_y'] = (abs(header[\"CDELT2\"])*CUNIT.to(u.arcsec))/u.pix\n",
    "Pointing_Information['original_spatial_scale_x'] = (abs(header[\"CDELT1\"])*CUNIT.to(u.rad))/u.pix*Pointing_Information['distance']\n",
    "Pointing_Information['original_spatial_scale_y'] = (abs(header[\"CDELT2\"])*CUNIT.to(u.rad))/u.pix*Pointing_Information['distance']#convert to pc using the distance\n",
    "\n",
    "average_pixel=np.sqrt((abs(header[\"CDELT1\"])*CUNIT.to(u.arcsec))/u.pix*(abs(header[\"CDELT2\"])*CUNIT.to(u.arcsec))/u.pix)\n",
    "\n",
    "Pointing_Information['original_beam_oversampling_MAJ'] = beam_major/average_pixel\n",
    "Pointing_Information['original_beam_oversampling_MIN'] = beam_minor/average_pixel\n",
    "Pointing_Information['desired_beam_oversampling'] = ovs\n",
    "#Pointing_Information['orig_FOV']= Crop_Around_Center(sc,Pointing_Information['target_image_rotation'],Pointing_Information['center'],desired_FOV,Pointing_Information['distance'])[1] #returns the current fov\n",
    "Pointing_Information['desired_FOV']=desired_FOV\n",
    "\n",
    "######\n",
    "\n",
    "Cube_Information = Update_Cube_Information(Pointing_Information,Pointing_Information[\"Original_File_Name\"])\n"
   ]
  },
  {
   "cell_type": "markdown",
   "id": "2974f75b-0f52-4151-8fea-49b866e86f60",
   "metadata": {},
   "source": [
    "# 1. Reprojection"
   ]
  },
  {
   "cell_type": "code",
   "execution_count": null,
   "id": "c7e42666-0842-4541-ab38-03497c3bf43b",
   "metadata": {
    "tags": []
   },
   "outputs": [],
   "source": [
    "gc.collect()\n",
    "\n",
    "#\n",
    "# def Reproject_To_Region(Pointing_Information,Cube_Information,i_step=30,Cube_Name_Save='',Force_Origin=[False,[0,0]*u.deg,[0,0]*u.deg]):\n",
    "\n",
    "Reproject_To_Region(Pointing_Information,Cube_Information,i_step=30,Cube_Name_Save='',Force_Origin=[False,[0,0]*u.deg,[0,0]*u.deg],partway=False,crop_nans=True)\n",
    "    \n",
    "# This is the cube name that they are being saved to unless you changed it inside the reproject functions definiton\n",
    "\n",
    "Cube_Name_Save = str(Pointing_Information[\"desired_beam_size\"].value)+\"pc_beam_\"+Pointing_Information[\"File_Descriptor\"]+str(Pointing_Information[\"desired_FOV\"][0].value)+\"x\"+str(Pointing_Information[\"desired_FOV\"][1].value)+'pc_'+'reprojected.fits'\n",
    "\n",
    "gc.collect()\n",
    "\n",
    "print(\"done\")\n"
   ]
  },
  {
   "cell_type": "markdown",
   "id": "42552c87-05bc-49d4-80ac-2b57f694a48e",
   "metadata": {},
   "source": [
    "# 1a. Splice the reprojected cubes back together"
   ]
  },
  {
   "cell_type": "code",
   "execution_count": null,
   "id": "8871ed29-ffaa-4905-96d3-f4b7cdf881fe",
   "metadata": {
    "tags": []
   },
   "outputs": [],
   "source": [
    "# First, splice the partwise cubes back together\n",
    "\n",
    "Cube_Name_Save = str(Pointing_Information[\"desired_beam_size\"].value)+\"pc_beam_\"+Pointing_Information[\"File_Descriptor\"]+str(Pointing_Information[\"desired_FOV\"][0].value)+\"x\"+str(Pointing_Information[\"desired_FOV\"][1].value)+'pc_'+'reprojected.fits'\n",
    "\n",
    "Splice_vels(Cube_Name_Load=Cube_Name_Save,crop=[[0,99999999],[907,1400]])\n",
    "\n",
    "Cube_Information = Update_Cube_Information(Pointing_Information,Cube_Name_Save)\n",
    "\n",
    "gc.collect()\n",
    "\n",
    "print(\"done\")"
   ]
  },
  {
   "cell_type": "markdown",
   "id": "2ad83455-839d-4964-8bbf-95956dddf9dd",
   "metadata": {},
   "source": [
    "# 1b. Velocity reprojection"
   ]
  },
  {
   "cell_type": "code",
   "execution_count": null,
   "id": "6d0f831b-1756-43d1-987c-fa7729d981e8",
   "metadata": {
    "tags": []
   },
   "outputs": [],
   "source": [
    "Cube_Name_Save = str(Pointing_Information[\"desired_beam_size\"].value)+\"pc_beam_\"+Pointing_Information[\"File_Descriptor\"]+str(Pointing_Information[\"desired_FOV\"][0].value)+\"x\"+str(Pointing_Information[\"desired_FOV\"][1].value)+'pc_'+'reprojected.fits'\n",
    "\n",
    "Cube_Information = Update_Cube_Information(Pointing_Information,Cube_Name_Save)\n",
    "\n",
    "# Load the spliced cube\n",
    "\n",
    "sc = SpectralCube.read((\"Spectral Cubes/\"+Cube_Name_Save)) \n",
    "\n",
    "# Reproject the spliced Cube's veloctiy axis\n",
    "\n",
    "Repo_Velocity(sc,Cube_Name_Save,Cube_Information)\n",
    "\n",
    "# Here is the new cube's name\n",
    "\n",
    "Cube_Name_Save = Cube_Name_Save[0:len(Cube_Name_Save)-5]+\"_\"+str(Pointing_Information[\"desired_velocity_resolution\"].value)+'_vel_res_'+'.fits'\n",
    "\n",
    "del sc\n",
    "\n",
    "gc.collect()"
   ]
  },
  {
   "cell_type": "markdown",
   "id": "3cb34a6b-8fec-4fee-be76-6ff4c9816fd2",
   "metadata": {},
   "source": [
    "# 1c. Fix repeated pixels"
   ]
  },
  {
   "cell_type": "code",
   "execution_count": 4,
   "id": "717f2a58-3d55-4e60-a152-f8e294cb0045",
   "metadata": {
    "tags": []
   },
   "outputs": [
    {
     "name": "stdout",
     "output_type": "stream",
     "text": [
      "Good data starting from channel 0 ; start has been cropped to that channel\n",
      "Good data ending at channel 200 ; end has been cropped to that channel\n",
      "Center: <SkyCoord (FK5: equinox=2000.0): (ra, dec) in deg\n",
      "    (11.89513942, -25.28740262)> Pixel center: 0 0 Pixel FOV: [291666666663750, 291666666666664128]\n",
      "cropping cube. rotation: 0.0 deg center: <SkyCoord (FK5: equinox=2000.0): (ra, dec) in deg\n",
      "    (11.89513942, -25.28740262)> crop to: [1.e+11 1.e+14] pc\n",
      "Cropped to  [1.e+11 1.e+14] pc pixels 171 399 17 1168\n",
      "Cropped cube saved as  Spectral Cubes/Cropped_3.0pc_beam_NGC_253_HCN_J4-3_140.0x700.0pc_reprojected_2.5_vel_res_.fits\n"
     ]
    }
   ],
   "source": [
    "# after the reprojection, there may be duplicated data from the fact that it just fills in stuff \n",
    "# expecting new data to be there. This fixes it by checking to see if it matches other data, then removes\n",
    "# the repeated slices. in other words, it may be set to reproject to 0-500 km/s through the velocity channels\n",
    "# but there may only be data between 100-400, so it will fill it in with copied data channels. This will check for those.\n",
    "\n",
    "\n",
    "\n",
    "# Update to the current cube name\n",
    "\n",
    "Cube_Name_Save = str(Pointing_Information[\"desired_beam_size\"].value)+\"pc_beam_\"+Pointing_Information[\"File_Descriptor\"]+str(Pointing_Information[\"desired_FOV\"][0].value)+\"x\"+str(Pointing_Information[\"desired_FOV\"][1].value)+'pc_'+'reprojected.fits'\n",
    "Cube_Name_Save = Cube_Name_Save[0:len(Cube_Name_Save)-5]+\"_\"+str(Pointing_Information[\"desired_velocity_resolution\"].value)+'_vel_res_'+'.fits'\n",
    "\n",
    "Cube_Information = Update_Cube_Information(Pointing_Information,Cube_Name_Save)\n",
    "\n",
    "# Run the function to crop the nan values out of the cube\n",
    "\n",
    "Remove_Repeated_Pixels(Cube_Name_Save,crop_nans=True)"
   ]
  },
  {
   "cell_type": "markdown",
   "id": "77c9e424-23c1-4a3d-8069-a7871e72b938",
   "metadata": {},
   "source": [
    "# x. save cube information"
   ]
  },
  {
   "cell_type": "code",
   "execution_count": 5,
   "id": "2310263d-4e01-4bdf-aa11-d04fe7b81ffa",
   "metadata": {},
   "outputs": [
    {
     "name": "stdout",
     "output_type": "stream",
     "text": [
      "{'Original_File_Name': 'NGC253.HCN_4-3.pbcor.fits', 'File_Descriptor': 'NGC_253_HCN_J4-3_', 'target': 'NGC253', 'center': <SkyCoord (ICRS): (ra, dec) in deg\n",
      "    (11.88808333, -25.2882)>, 'distance': <Quantity 3.5 Mpc>, 'target_image_rotation': <Quantity 33. deg>, 'target_inclination': <Quantity 78. deg>, 'target_velocity': <Quantity 250. km / s>, 'vaxis': 0, 'desired_velocity_resolution': <Quantity 2.5 km / s>, 'Corresponding_Continuum': 'Continuum_Reproject.fits', 'wavelength': <Quantity 0.00084566 m>, 'restfreq': <Quantity 3.5450548e+11 Hz>, 'CUNIT': <Quantity 1. deg>, 'original_BMAJ': <Quantity 0.17 arcsec>, 'original_BMIN': <Quantity 0.13 arcsec>, 'original_BMAJ_pc': <Quantity 2.8846414e-06 Mpc rad>, 'original_BMIN_pc': <Quantity 2.20590225e-06 Mpc rad>, 'desired_beam_size': <Quantity 3. pc>, 'original_pixel_scale_x': <Quantity 0.05 arcsec / pix>, 'original_pixel_scale_y': <Quantity 0.05 arcsec / pix>, 'original_spatial_scale_x': <Quantity 8.48423942e-07 Mpc rad / pix>, 'original_spatial_scale_y': <Quantity 8.48423942e-07 Mpc rad / pix>, 'original_beam_oversampling_MAJ': <Quantity 3.4 pix>, 'original_beam_oversampling_MIN': <Quantity 2.6 pix>, 'desired_beam_oversampling': 5, 'desired_FOV': <Quantity [140., 700.] pc>, 'File_Name': 'Cropped_3.0pc_beam_NGC_253_HCN_J4-3_140.0x700.0pc_reprojected_2.5_vel_res_.fits', 'data_unit': Unit(\"K\"), 'arc_per_pix_y': <Quantity 0.03535968 arcsec / pix>, 'arc_per_pix_x': <Quantity 0.03535968 arcsec / pix>, 'Beam_Position_angle': <Quantity 0. deg>, 'beam_major': <Quantity 0.17679841 arcsec>, 'beam_minor': <Quantity 0.17679841 arcsec>, 'beam_area_ratio': <Quantity 28.32725 pix2 / beam>, 'spatial_scale_x': <Quantity 6.e-07 Mpc / pix>, 'spatial_scale_y': <Quantity 6.e-07 Mpc / pix>, 'spatial_scale': <Quantity 0.03535968 arcsec>, 'velocity_scale': <Quantity 2.50001668 km / s>, 'beam_oversampling': <Quantity 5. pix>, 'wcsu': WCS Keywords\n",
      "\n",
      "Number of WCS axes: 3\n",
      "CTYPE : 'RA---SIN'  'DEC--SIN'  'VRAD-F2F'  \n",
      "CRVAL : 11.895693160612  -25.295369247995  -1000.0033356129  \n",
      "CRPIX : 383.0  -878.0  1.0  \n",
      "PC1_1 PC1_2 PC1_3  : 0.83867056794542  0.54463903501503  0.0  \n",
      "PC2_1 PC2_2 PC2_3  : -0.54463903501503  0.83867056794542  0.0  \n",
      "PC3_1 PC3_2 PC3_3  : 0.0  0.0  1.0  \n",
      "CDELT : -9.8221336308141e-06  9.8221336308141e-06  2500.0166782881997  \n",
      "NAXIS : 1151  228  200}\n"
     ]
    }
   ],
   "source": [
    "# Now that all the data reduction is concluded, save information about the new cubes\n",
    "\n",
    "Cube_Name_Save = str(Pointing_Information[\"desired_beam_size\"].value)+\"pc_beam_\"+Pointing_Information[\"File_Descriptor\"]+str(Pointing_Information[\"desired_FOV\"][0].value)+\"x\"+str(Pointing_Information[\"desired_FOV\"][1].value)+'pc_'+'reprojected.fits'\n",
    "Cube_Name_Save = \"Cropped_\"+Cube_Name_Save[0:len(Cube_Name_Save)-5]+\"_\"+str(Pointing_Information[\"desired_velocity_resolution\"].value)+'_vel_res_'+'.fits'\n",
    "\n",
    "Cube_Information = Update_Cube_Information(Pointing_Information,Cube_Name_Save)\n",
    "\n",
    "import pickle \n",
    "\n",
    "with open(\"Spectral Cubes/Cube Information/\"+File_Descriptor+\"_Cube_Information\", 'wb') as file:\n",
    "    pickle.dump(Cube_Information, file)\n",
    "\n",
    "with open(\"Spectral Cubes/Cube Information/\"+File_Descriptor+\"_Pointing_Information\", 'wb') as file:\n",
    "    pickle.dump(Pointing_Information, file)\n",
    "\n",
    "print(Cube_Information)"
   ]
  },
  {
   "cell_type": "code",
   "execution_count": null,
   "id": "b0655e45-c310-4e67-a7d1-b4a3196f4de5",
   "metadata": {},
   "outputs": [],
   "source": []
  },
  {
   "cell_type": "markdown",
   "id": "09d0c0cc-8661-4450-913c-bfbd842fbe81",
   "metadata": {},
   "source": [
    "# xb. Noise matching "
   ]
  },
  {
   "cell_type": "markdown",
   "id": "21dcd8e4-5225-4cb5-8568-30005729ae6d",
   "metadata": {
    "tags": []
   },
   "source": [
    "#There are slight non-uniform noise spaces near the edge of the cube, but they will not be corrected\n",
    "if Pointing_Information[\"noise_matched\"]:\n",
    "    print(\"The cube already has spatially uniform noise\")\n",
    "    pass\n",
    "else\n",
    "    # Return an input cube matched to the given nosie\n",
    "\n",
    "    Cube_Name_Save = str(Pointing_Information[\"desired_beam_size\"].value)+\"pc_beam_\"+Pointing_Information[\"File_Descriptor\"]+str(Pointing_Information[\"desired_FOV\"][0].value)+\"x\"+str(Pointing_Information[\"desired_FOV\"][1].value)+'pc_'+'reprojected.fits'\n",
    "    Cube_Name_Save = \"Cropped_\"+Cube_Name_Save[0:len(Cube_Name_Save)-5]+\"_\"+str(Pointing_Information[\"desired_velocity_resolution\"].value)+'_vel_res_'+'.fits'\n",
    "\n",
    "    Q  = SpectralCube.read(\"Spectral Cubes/\"+Cube_Name_Save)\n",
    "\n",
    "    NM_Cube = Noise_matching(Input_Cube=Q,m=(.115*u.K))\n",
    "\n",
    "\n",
    "    Cube_Name_Save = \"NM_\"+Cube_Name_Save\n",
    "\n",
    "    NM_Cube.write(\"Spectral Cubes/\"+Cube_Name_Save)\n",
    "\n",
    "    Cube_Information = Update_Cube_Information(Pointing_Information,Cube_Name_Save)\n",
    "\n",
    "    import pickle \n",
    "\n",
    "    with open(\"Spectral Cubes/Cube Information/\"+File_Descriptor+\"_Cube_Information\", 'wb') as file:\n",
    "        pickle.dump(Cube_Information, file)\n",
    "\n",
    "    with open(\"Spectral Cubes/Cube Information/\"+File_Descriptor+\"_Pointing_Information\", 'wb') as file:\n",
    "        pickle.dump(Pointing_Information, file)\n",
    "\n",
    "    print(Cube_Information)\n"
   ]
  },
  {
   "cell_type": "markdown",
   "id": "9af07008-9033-4c0f-a68f-665dc83a97ba",
   "metadata": {
    "jupyter": {
     "outputs_hidden": true
    },
    "tags": []
   },
   "source": [
    "Cube_Information = Update_Cube_Information(Pointing_Information,Cube_Name_Save)\n",
    "\n",
    "import pickle \n",
    "\n",
    "with open(\"Spectral Cubes/Cube Information/\"+File_Descriptor+\"_Cube_Information\", 'wb') as file:\n",
    "    pickle.dump(Cube_Information, file)\n",
    "\n",
    "with open(\"Spectral Cubes/Cube Information/\"+File_Descriptor+\"_Pointing_Information\", 'wb') as file:\n",
    "    pickle.dump(Pointing_Information, file)\n",
    "\n",
    "print(Cube_Information)"
   ]
  }
 ],
 "metadata": {
  "kernelspec": {
   "display_name": "Python 3",
   "language": "python",
   "name": "python3"
  },
  "language_info": {
   "codemirror_mode": {
    "name": "ipython",
    "version": 3
   },
   "file_extension": ".py",
   "mimetype": "text/x-python",
   "name": "python",
   "nbconvert_exporter": "python",
   "pygments_lexer": "ipython3",
   "version": "3.8.5"
  }
 },
 "nbformat": 4,
 "nbformat_minor": 5
}
