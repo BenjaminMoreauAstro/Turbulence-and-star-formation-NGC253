{
 "cells": [
  {
   "cell_type": "code",
   "execution_count": 1,
   "id": "03c02ce0-4c78-4744-89d4-f24f05fd9ff6",
   "metadata": {},
   "outputs": [
    {
     "name": "stdout",
     "output_type": "stream",
     "text": [
      "/home/ben/miniconda3/bin/python\n",
      "3.8.5 (default, Sep  4 2020, 07:30:14) \n",
      "[GCC 7.3.0]\n",
      "sys.version_info(major=3, minor=8, micro=5, releaselevel='final', serial=0)\n",
      "astropy 5.1.dev153+gb740594dc\n",
      "spectral_cube 0.6.1.dev22+g003ef16\n",
      "spectral_cube file path /home/ben/.local/lib/python3.8/site-packages/spectral_cube/__init__.py\n",
      "reproject 0.8\n",
      "1.23.1 Numpy\n",
      "astrodendro_file: /home/ben/.local/lib/python3.8/site-packages/astrodendro/__init__.py\n",
      "Results will be saved to Directory ./Result Files\n",
      "Cubes will be saved and loaded with Directory ./Spectral Cubes\n",
      "Plots will be saved to Directory ./Plots\n",
      "Dendrograms will be saved to Directory ./Dendrograms\n",
      "<SkyCoord (ICRS): (ra, dec) in deg\n",
      "    (11.88808333, -25.2882)>\n",
      "<SkyCoord (ICRS): (ra, dec) in deg\n",
      "    (11.88808333, -25.2882)>\n",
      "hms_tuple(h=0.0, m=47.0, s=33.14000000000064)\n",
      "0h47m33.14000000000064s\n",
      "<class 'astropy.coordinates.angles.Longitude'>\n",
      "-25d17m17.52s\n"
     ]
    }
   ],
   "source": [
    "\n",
    "\n",
    "\n",
    "\n",
    "%run ./\"0 Imports and functions.ipynb\"\n",
    "gc.collect()\n",
    "files,distance,r = ['HCN_J1-0.cube.fits'],3.5*u.Mpc,33*u.deg\n",
    "#files,distance,r = [\"CMZ_3mm_HCN.fits\"],8170*u.pc,0*u.deg\n",
    "\n",
    "sc = SpectralCube.read(\"Spectral Cubes/\"+files[0]) \n",
    "\n",
    "\n",
    "#def Crop_Around_Center(sc,rotation_angle,center,desired_fov,distance)\n",
    "#center = SkyCoord('-00d03m20.76s  ', '-00d02m46.176s', frame='galactic')\n",
    "center=SkyCoord('00h47m33.14s' ,'-25d17m17.52s',frame='icrs') #the center of NGC253\n",
    "#print(dir(center))\n",
    "print((center))\n",
    "print(str(center))\n",
    "\n",
    "            \n",
    "print(center.ra.hms)\n",
    "hms=center.ra.hms\n",
    "print(f\"{int(hms.h)}h{int(hms.m)}m{(hms.s)}s\")\n",
    "print(type(center.ra))\n",
    "print(center.dec)\n",
    "#new_sc,o,f=Crop_Around_Center(sc,r,center,[70,360]*u.pc,distance)\n",
    "#print(new_sc,o,f)\n",
    "#new_sc.write(\"Test.fits\",overwrite=True)\n"
   ]
  },
  {
   "cell_type": "code",
   "execution_count": 5,
   "id": "01613693-ed8a-4b3c-bf94-333a905e3284",
   "metadata": {
    "tags": []
   },
   "outputs": [],
   "source": [
    "# rotate NGC253\n",
    "###################################################################################################\n",
    "sc = SpectralCube.read(\"Spectral Cubes/\"+files[0])[50:55,0:200,0:200]\n",
    "\n",
    "# rotation matrix for 33 degree\n",
    "rotation_matrix = {'PC1_1':  8.386705679454E-01,\n",
    "                   'PC2_1': -5.446390350150E-01,\n",
    "                   'PC3_1':  0.000000000000E+00,\n",
    "                   'PC1_2': 5.446390350150E-01,\n",
    "                   'PC2_2':  8.386705679454E-01,\n",
    "                   'PC3_2':  0.000000000000E+00,\n",
    "                   'PC1_3':  0.000000000000E+00,\n",
    "                   'PC2_3':  0.000000000000E+00,\n",
    "                   'PC3_3':  1.000000000000E+00}\n",
    "\n",
    "reheader = copy.deepcopy(sc.header)\n",
    "for key,val in rotation_matrix.items():\n",
    "    reheader[key] = val\n",
    "\n",
    "# rotate by regridding onto rotated header\n",
    "sc = SpectralCube.read(sc.hdu)\n",
    "sc.allow_huge_operations = True\n",
    "cube6 = sc.reproject(reheader, order='bilinear', use_memmap=True, filled=True)\n",
    "cube6 = SpectralCube.read(cube6.hdu)\n",
    "cube6.write(\"Test.fits\",overwrite=True)\n"
   ]
  },
  {
   "cell_type": "code",
   "execution_count": 9,
   "id": "21fc7eba-d4ec-48b0-b70e-7bc85e9a4704",
   "metadata": {},
   "outputs": [
    {
     "name": "stdout",
     "output_type": "stream",
     "text": [
      "1.3.3\n",
      "[[ 2.22044605e-16 -1.00000000e+00  0.00000000e+00]\n",
      " [ 1.00000000e+00  2.22044605e-16  0.00000000e+00]\n",
      " [ 0.00000000e+00  0.00000000e+00  1.00000000e+00]]\n",
      "[[ 0.83867057 -0.54463904  0.        ]\n",
      " [ 0.54463904  0.83867057  0.        ]\n",
      " [ 0.          0.          1.        ]]\n"
     ]
    }
   ],
   "source": [
    "from scipy.spatial.transform import Rotation as R\n",
    "import numpy as np\n",
    "\n",
    "print(scipy.__version__)\n",
    "r = R.from_quat([0, 0, np.sin(np.pi/4), np.cos(np.pi/4)])\n",
    "print(r.as_dcm())\n",
    "\n",
    "r = R.from_euler('z', 33, degrees=True)\n",
    "\n",
    "print(r.as_dcm())\n"
   ]
  },
  {
   "cell_type": "code",
   "execution_count": null,
   "id": "bc8ca6b7-f195-4f48-b929-f6114ba3c7a4",
   "metadata": {},
   "outputs": [],
   "source": []
  }
 ],
 "metadata": {
  "kernelspec": {
   "display_name": "Python 3 (ipykernel)",
   "language": "python",
   "name": "python3"
  },
  "language_info": {
   "codemirror_mode": {
    "name": "ipython",
    "version": 3
   },
   "file_extension": ".py",
   "mimetype": "text/x-python",
   "name": "python",
   "nbconvert_exporter": "python",
   "pygments_lexer": "ipython3",
   "version": "3.8.5"
  }
 },
 "nbformat": 4,
 "nbformat_minor": 5
}
